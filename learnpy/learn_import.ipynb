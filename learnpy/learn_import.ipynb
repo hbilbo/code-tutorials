{
 "cells": [
  {
   "cell_type": "markdown",
   "metadata": {},
   "source": [
    "Python code is typically written in files whose names end in the .py extension. When\n",
    "such a file is brought into a running Python interpreter, it is called a module. This is\n",
    "the in-memory representation of all of the Python code in the file. A collection of\n",
    "modules in a directory is called a package. It is worth noting that Python allows modules\n",
    "to be written in languages other than Python. These are called extension modules\n",
    "and are typically implemented in C.\n",
    "\n",
    "Modules allow for a suite of related code files to all exist next to each other and to be\n",
    "accessed in a common way. They also provide a mechanism for saving and sharing\n",
    "code for use elsewhere and by other people. The Python standard library is itself an\n",
    "extensive collection of modules for a huge variety of common and not-so-common\n",
    "tasks. The batteries-included standard library is one of the things that makes Python\n",
    "so versatile. Using modules is how you get your hands on anything more than pure\n",
    "built-in Python.\n",
    "\n",
    "Code from modules may be garnered in a number of different ways. All of these use\n",
    "the import keyword to pull in the module itself and allow you to access all of the variables\n",
    "that exist in that module. Modules may themselves use other modules."
   ]
  },
  {
   "cell_type": "code",
   "execution_count": 9,
   "metadata": {},
   "outputs": [],
   "source": [
    "#from <module> import <var1> as <name1>, <var2> as <name2>\n",
    "#from <module> import <var1>\n",
    "#import <module> as <name>"
   ]
  },
  {
   "cell_type": "markdown",
   "metadata": {},
   "source": [
    "Math"
   ]
  },
  {
   "cell_type": "code",
   "execution_count": 10,
   "metadata": {},
   "outputs": [
    {
     "name": "stdout",
     "output_type": "stream",
     "text": [
      "3.0\n"
     ]
    }
   ],
   "source": [
    "from math import sqrt\n",
    "#math is the module, sqrt is the function\n",
    "a = sqrt(9); print(a)"
   ]
  },
  {
   "cell_type": "markdown",
   "metadata": {},
   "source": [
    "Itertools"
   ]
  },
  {
   "cell_type": "code",
   "execution_count": 11,
   "metadata": {},
   "outputs": [
    {
     "name": "stdout",
     "output_type": "stream",
     "text": [
      "[(1, 1, 1), (1, 1, 2), (1, 1, 3), (1, 2, 1), (1, 2, 2), (1, 2, 3), (1, 3, 1), (1, 3, 2), (1, 3, 3), (2, 1, 1), (2, 1, 2), (2, 1, 3), (2, 2, 1), (2, 2, 2), (2, 2, 3), (2, 3, 1), (2, 3, 2), (2, 3, 3), (3, 1, 1), (3, 1, 2), (3, 1, 3), (3, 2, 1), (3, 2, 2), (3, 2, 3), (3, 3, 1), (3, 3, 2), (3, 3, 3)] \n",
      "[(1, 4, 7), (1, 4, 8), (1, 4, 9), (1, 5, 7), (1, 5, 8), (1, 5, 9), (1, 6, 7), (1, 6, 8), (1, 6, 9), (2, 4, 7), (2, 4, 8), (2, 4, 9), (2, 5, 7), (2, 5, 8), (2, 5, 9), (2, 6, 7), (2, 6, 8), (2, 6, 9), (3, 4, 7), (3, 4, 8), (3, 4, 9), (3, 5, 7), (3, 5, 8), (3, 5, 9), (3, 6, 7), (3, 6, 8), (3, 6, 9)]\n",
      "27\n"
     ]
    }
   ],
   "source": [
    "import itertools as itools\n",
    "#import a module under a different name\n",
    "A = [1,2,3]\n",
    "B = [4,5,6]\n",
    "C = [7,8,9]\n",
    "D = itools.product(A,repeat=3)\n",
    "E = itools.product(A,B,C)\n",
    "DL = list(D)\n",
    "print(DL,f\"\\n{list(E)}\")\n",
    "print(len(DL))"
   ]
  },
  {
   "cell_type": "markdown",
   "metadata": {},
   "source": [
    "Time"
   ]
  },
  {
   "cell_type": "code",
   "execution_count": 12,
   "metadata": {},
   "outputs": [
    {
     "name": "stdout",
     "output_type": "stream",
     "text": [
      "['_STRUCT_TM_ITEMS', '__doc__', '__loader__', '__name__', '__package__', '__spec__', 'altzone', 'asctime', 'ctime', 'daylight', 'get_clock_info', 'gmtime', 'localtime', 'mktime', 'monotonic', 'monotonic_ns', 'perf_counter', 'perf_counter_ns', 'process_time', 'process_time_ns', 'sleep', 'strftime', 'strptime', 'struct_time', 'thread_time', 'thread_time_ns', 'time', 'time_ns', 'timezone', 'tzname']\n",
      "1693937803.8910208\n",
      "time.struct_time(tm_year=2023, tm_mon=9, tm_mday=5, tm_hour=13, tm_min=16, tm_sec=43, tm_wday=1, tm_yday=248, tm_isdst=1)\n",
      "1\n",
      "21600\n"
     ]
    }
   ],
   "source": [
    "import time\n",
    "print(dir(time))\n",
    "time.sleep(1) #sleep for one second\n",
    "print(time.time())\n",
    "print(time.localtime())\n",
    "print(time.daylight)\n",
    "print(time.timezone)"
   ]
  },
  {
   "cell_type": "markdown",
   "metadata": {},
   "source": [
    "Random"
   ]
  },
  {
   "cell_type": "code",
   "execution_count": 13,
   "metadata": {},
   "outputs": [
    {
     "name": "stdout",
     "output_type": "stream",
     "text": [
      "\n",
      "['run', 'run', 'jump', 'swim', 'jump', 'jump', 'jump', 'swim']\n"
     ]
    }
   ],
   "source": [
    "import random\n",
    "activities = [\"run\",\"swim\",\"jump\",\"climb\"]\n",
    "weights = [5,1,10,3]\n",
    "rdm = random.choices(activities,weights,k=8)\n",
    "print(f\"\\n{rdm}\")"
   ]
  },
  {
   "cell_type": "markdown",
   "metadata": {},
   "source": [
    "Collections"
   ]
  },
  {
   "cell_type": "code",
   "execution_count": 14,
   "metadata": {},
   "outputs": [
    {
     "name": "stdout",
     "output_type": "stream",
     "text": [
      "Counter({'up': 2, 'down': 2, 'left': 2, 'right': 2, 'B': 1, 'A': 1, 'start': 1})\n",
      "<class 'collections.Counter'>\n",
      "2\n",
      "11\n"
     ]
    }
   ],
   "source": [
    "from collections import Counter\n",
    "code = ['up','up','down','down','left','right','left','right','B','A','start']\n",
    "count = Counter(code)\n",
    "print(count); print(type(count))\n",
    "lft = count[\"left\"]; print(lft)\n",
    "print(count.total())"
   ]
  },
  {
   "cell_type": "markdown",
   "metadata": {},
   "source": [
    "Faker"
   ]
  },
  {
   "cell_type": "code",
   "execution_count": 15,
   "metadata": {},
   "outputs": [
    {
     "name": "stdout",
     "output_type": "stream",
     "text": [
      "\n",
      "john13@example.com\n",
      "ovj9O!lf1_\n"
     ]
    }
   ],
   "source": [
    "import faker\n",
    "# print(dir(faker))\n",
    "fake = faker.Faker()\n",
    "eml = fake.email()\n",
    "pss = fake.password()\n",
    "print(f\"\\n{eml}\"); print(pss)\n",
    "# print(dir(fake))"
   ]
  },
  {
   "cell_type": "markdown",
   "metadata": {},
   "source": [
    "Pandas"
   ]
  },
  {
   "cell_type": "code",
   "execution_count": 16,
   "metadata": {},
   "outputs": [
    {
     "name": "stdout",
     "output_type": "stream",
     "text": [
      "   a          b    c      d    e\n",
      "0  1 2023-06-09  1.0   Test  foo\n",
      "1  1 2023-06-09  2.0  Train  foo\n",
      "2  1 2023-06-09  3.0   Test  foo\n",
      "3  1 2023-06-09  4.0  Train  foo\n"
     ]
    }
   ],
   "source": [
    "import pandas as pd\n",
    "df = pd.DataFrame({\n",
    "    \"a\": 1,\n",
    "    \"b\": pd.Timestamp('20230609'),\n",
    "    \"c\": pd.Series([1,2,3,4],dtype='float32'),\n",
    "    \"d\": pd.Categorical([\"Test\",\"Train\",\"Test\",\"Train\"]),\n",
    "    \"e\": \"foo\"\n",
    "})\n",
    "print(df)"
   ]
  }
 ],
 "metadata": {
  "kernelspec": {
   "display_name": "Python 3",
   "language": "python",
   "name": "python3"
  },
  "language_info": {
   "codemirror_mode": {
    "name": "ipython",
    "version": 3
   },
   "file_extension": ".py",
   "mimetype": "text/x-python",
   "name": "python",
   "nbconvert_exporter": "python",
   "pygments_lexer": "ipython3",
   "version": "3.11.5"
  },
  "orig_nbformat": 4
 },
 "nbformat": 4,
 "nbformat_minor": 2
}
