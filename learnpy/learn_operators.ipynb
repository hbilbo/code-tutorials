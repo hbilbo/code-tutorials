{
 "cells": [
  {
   "cell_type": "markdown",
   "metadata": {},
   "source": [
    "Unary"
   ]
  },
  {
   "cell_type": "code",
   "execution_count": 90,
   "metadata": {},
   "outputs": [
    {
     "name": "stdout",
     "output_type": "stream",
     "text": [
      "5\n",
      "13\n"
     ]
    }
   ],
   "source": [
    "x = 5; print(x)\n",
    "del x\n",
    "print(int('1101', 2))"
   ]
  },
  {
   "cell_type": "markdown",
   "metadata": {},
   "source": [
    "Logic"
   ]
  },
  {
   "cell_type": "code",
   "execution_count": 91,
   "metadata": {},
   "outputs": [
    {
     "name": "stdout",
     "output_type": "stream",
     "text": [
      "[0, 0, None, 1]\n",
      "False\n",
      "True\n",
      "[0, 0, 1, 1]\n",
      "[0, 1, 1]\n"
     ]
    }
   ],
   "source": [
    "logic = [0, 0, None, 1]\n",
    "print(logic)\n",
    "print(bool(0))\n",
    "print(bool(\"Is this true\"))\n",
    "logic[2] = 1; print(logic)\n",
    "del logic[1]; print(logic)"
   ]
  },
  {
   "cell_type": "markdown",
   "metadata": {},
   "source": [
    "Math"
   ]
  },
  {
   "cell_type": "code",
   "execution_count": 92,
   "metadata": {},
   "outputs": [
    {
     "name": "stdout",
     "output_type": "stream",
     "text": [
      "2\n",
      "1\n",
      "0\n",
      "1024\n",
      "1024\n",
      "25\n",
      "25.0\n",
      "4\n"
     ]
    }
   ],
   "source": [
    "print(5//2)\n",
    "print(1 ^ 0) #Eclusive or\n",
    "print(1 ^ 1)\n",
    "print(1 << 10)\n",
    "print(2**10)\n",
    "print(100 >> 2)\n",
    "print(100 * 2**-2)\n",
    "a = 1; a += 3\n",
    "print(a)"
   ]
  },
  {
   "cell_type": "markdown",
   "metadata": {},
   "source": [
    "Comparison and Ternary"
   ]
  },
  {
   "cell_type": "code",
   "execution_count": 93,
   "metadata": {},
   "outputs": [
    {
     "name": "stdout",
     "output_type": "stream",
     "text": [
      "4 4 3 3\n",
      "True\n",
      "True\n",
      "True\n"
     ]
    }
   ],
   "source": [
    "h,p = [4]*2\n",
    "q = z = 3\n",
    "print(h,p,q,z)\n",
    "# Doesn't do anything, just shows how you can chain things together\n",
    "x, h, f, m, y, z = [1, 5, 2, 16, True, 7]\n",
    "(x < 1) or ((h + y - f) << (m // 8) if y and z**2 else 42)\n",
    "print(\"Ice\" in \"Icecream\")\n",
    "print(12 in [91,12])\n",
    "print(x == 1)\n"
   ]
  },
  {
   "cell_type": "markdown",
   "metadata": {},
   "source": [
    "== vs is<br>\n",
    "The == operator checks if two values are equal. e.g. 1 == 1.0 returns True. However 1 is 1.0 is false because they are of different types.<br>\n",
    "The *is* operator compares if two values stored in memory are equal"
   ]
  },
  {
   "cell_type": "code",
   "execution_count": 106,
   "metadata": {},
   "outputs": [
    {
     "name": "stdout",
     "output_type": "stream",
     "text": [
      "True False\n",
      "True\n"
     ]
    }
   ],
   "source": [
    "r,s = 42, 42.0\n",
    "print(r == s, r is s)\n",
    "print(12 == 12)"
   ]
  }
 ],
 "metadata": {
  "kernelspec": {
   "display_name": "Python 3",
   "language": "python",
   "name": "python3"
  },
  "language_info": {
   "codemirror_mode": {
    "name": "ipython",
    "version": 3
   },
   "file_extension": ".py",
   "mimetype": "text/x-python",
   "name": "python",
   "nbconvert_exporter": "python",
   "pygments_lexer": "ipython3",
   "version": "3.11.5"
  },
  "orig_nbformat": 4
 },
 "nbformat": 4,
 "nbformat_minor": 2
}
