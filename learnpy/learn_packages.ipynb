{
 "cells": [
  {
   "cell_type": "markdown",
   "metadata": {},
   "source": [
    "A collection of modules in the same directory is called a\n",
    "package. For the package to be visible to Python, the directory must contain a special\n",
    "file named \\_\\_init\\_\\_.py. The main purpose of this file is to signal to Python that the\n",
    "directory is a package, and that other files in this directory whose names end in .py\n",
    "are importable. This file does not need to have any code in it. If it does, this code will\n",
    "be executed before any other modules in the package are imported."
   ]
  },
  {
   "cell_type": "markdown",
   "metadata": {},
   "source": [
    "### Example Package\n",
    "Filestructure:\n",
    "```\n",
    "compphys/\n",
    "    __init__.py\n",
    "    constants.py\n",
    "    physics.py\n",
    "    more/\n",
    "        __init__.py\n",
    "        morephysics.py\n",
    "        evenmorephysics.py\n",
    "        yetmorephysics.py\n",
    "    raw/\n",
    "        data.txt\n",
    "        matrix.txt\n",
    "        orphan.py\n",
    "```"
   ]
  },
  {
   "cell_type": "markdown",
   "metadata": {},
   "source": [
    "Here, compphys is the package name. This package has three modules (\\_\\_init\\_\\_.py,\n",
    "constants.py, and physics.py) and one subpackage (more). The raw directory does not\n",
    "count as a subpackage because it lacks an \\_\\_init\\_\\_.py file. This is true even though it\n",
    "contains other Python files, such as orphan.py, which are unreachable.\n",
    "```\n",
    "import compphys.constants\n",
    "import compphys.more.evenmorephysics\n",
    "two_pi = 2 * compphys.constants.pi\n",
    "```"
   ]
  },
  {
   "cell_type": "markdown",
   "metadata": {},
   "source": [
    "<div class=\"alert alert-block alert-warning\">\n",
    "<b>Implicit relative importing</b> was available in Python 2 but removed in Python 3. Do not use this method.\n",
    "</div>"
   ]
  },
  {
   "cell_type": "markdown",
   "metadata": {},
   "source": [
    "### Explicit relative importing\n",
    "From physics.py, the following are valid imports:\n",
    "```\n",
    "from . import constants\n",
    "from .constants import pi, h\n",
    "from .more import morephysics\n",
    "```\n",
    "From evenmorephysics.py, the following imports would succeed:\n",
    "```\n",
    "from . import morephysics\n",
    "from .. import constants\n",
    "from ..constants import pi, h\n",
    "```"
   ]
  },
  {
   "cell_type": "markdown",
   "metadata": {},
   "source": [
    "### Python Standard Libraries\n",
    "Python comes installed with a large collection of standard libraries which are very useful for expanding the language. Some of the most useful Python modules that the standard library provides are:\n",
    "| Module   | Description |\n",
    "|:--------:|:-----------:|\n",
    "|os|Operating system abstractions: file path operations, file removal, etc.|\n",
    "|sys|System-specific, gets into the guts of the Python interpreter|\n",
    "|math|Everyday mathematical functions and constants|\n",
    "|re|Regular expression library|\n",
    "|subprocess|Spawns child processes and shells, good for running other command-line tools|\n",
    "|argparse|Creates easy and beautiful command-line utilities|\n",
    "|itertools|Helpful tools for looping|\n",
    "|collections|Advanced collection types and tools for making custom collections|\n",
    "|decimal|Arbitrary-precision integers and floats|\n",
    "|random|Pseudo-random number generators|\n",
    "|csv|Tools for reading and writing comma-separated value files|\n",
    "|pdb|The Python debugger (similar to gdb for C/C++/Fortran)|\n",
    "|logging|Utilities for logging the progress of a program while it is running|"
   ]
  }
 ],
 "metadata": {
  "kernelspec": {
   "display_name": "Python 3",
   "language": "python",
   "name": "python3"
  },
  "language_info": {
   "name": "python",
   "version": "3.11.5"
  },
  "orig_nbformat": 4
 },
 "nbformat": 4,
 "nbformat_minor": 2
}
