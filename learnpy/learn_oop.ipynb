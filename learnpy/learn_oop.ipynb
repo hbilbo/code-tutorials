{
 "cells": [
  {
   "cell_type": "markdown",
   "metadata": {},
   "source": [
    "### Objects"
   ]
  },
  {
   "cell_type": "code",
   "execution_count": 80,
   "metadata": {},
   "outputs": [
    {
     "name": "stdout",
     "output_type": "stream",
     "text": [
      "['__call__', '__class__', '__delattr__', '__dir__', '__doc__', '__eq__', '__format__', '__ge__', '__getattribute__', '__getstate__', '__gt__', '__hash__', '__init__', '__init_subclass__', '__le__', '__lt__', '__module__', '__name__', '__ne__', '__new__', '__qualname__', '__reduce__', '__reduce_ex__', '__repr__', '__self__', '__setattr__', '__sizeof__', '__str__', '__subclasshook__', '__text_signature__']\n"
     ]
    }
   ],
   "source": [
    "import math\n",
    "print(dir(math.sin)) #shows that the sin function is an object"
   ]
  },
  {
   "cell_type": "markdown",
   "metadata": {},
   "source": [
    "Methods with the double underscore (\"dunder\") in front and behind them are built-in methods in Python. However, you should hardly *ever* need to use them and should instead use the built-in Python function.\n",
    "- `Use abs() instead of int.__abs__()`"
   ]
  },
  {
   "cell_type": "code",
   "execution_count": 81,
   "metadata": {},
   "outputs": [
    {
     "name": "stdout",
     "output_type": "stream",
     "text": [
      "Return the sine of x (measured in radians).\n",
      "['__add__', '__class__', '__contains__', '__delattr__', '__dir__', '__doc__', '__eq__', '__format__', '__ge__', '__getattribute__', '__getitem__', '__getnewargs__', '__getstate__', '__gt__', '__hash__', '__init__', '__init_subclass__', '__iter__', '__le__', '__len__', '__lt__', '__mod__', '__mul__', '__ne__', '__new__', '__reduce__', '__reduce_ex__', '__repr__', '__rmod__', '__rmul__', '__setattr__', '__sizeof__', '__str__', '__subclasshook__', 'capitalize', 'casefold', 'center', 'count', 'encode', 'endswith', 'expandtabs', 'find', 'format', 'format_map', 'index', 'isalnum', 'isalpha', 'isascii', 'isdecimal', 'isdigit', 'isidentifier', 'islower', 'isnumeric', 'isprintable', 'isspace', 'istitle', 'isupper', 'join', 'ljust', 'lower', 'lstrip', 'maketrans', 'partition', 'removeprefix', 'removesuffix', 'replace', 'rfind', 'rindex', 'rjust', 'rpartition', 'rsplit', 'rstrip', 'split', 'splitlines', 'startswith', 'strip', 'swapcase', 'title', 'translate', 'upper', 'zfill']\n"
     ]
    }
   ],
   "source": [
    "print(math.sin.__doc__)\n",
    "print(dir(math.sin.__doc__)) #even the sin function documentation is a string"
   ]
  },
  {
   "cell_type": "markdown",
   "metadata": {},
   "source": [
    "### Classes\n",
    "Classes define logical collections of attributes describing a kind of object. They also describe how to create a particular object of that kind.\n",
    "- Can inherit from each other to capture heirarchy of types, subtypes, and supertypes of objects\n",
    "- Encapsulation isolates internal data and functions related to different types of objects"
   ]
  },
  {
   "cell_type": "markdown",
   "metadata": {},
   "source": [
    "#### Class Variables\n",
    "Data universally available to all objects of the class"
   ]
  },
  {
   "cell_type": "markdown",
   "metadata": {},
   "source": [
    "In file ***particle.py***\n",
    "```\n",
    "class Particle(object):\n",
    "    \"\"\"A particle is a constituent unit of the universe.\"\"\"\n",
    "    roar = \"I am a particle!\"\n",
    "```\n",
    "Including \"object\" helps distinguish that this class defines a certain type of object"
   ]
  },
  {
   "cell_type": "code",
   "execution_count": 82,
   "metadata": {},
   "outputs": [
    {
     "name": "stdout",
     "output_type": "stream",
     "text": [
      "I am a particle!\n",
      "I am a particle!\n"
     ]
    }
   ],
   "source": [
    "import particle as p\n",
    "print(p.Particle.roar)\n",
    "\n",
    "higgs = p.Particle\n",
    "print(higgs.roar)"
   ]
  },
  {
   "cell_type": "markdown",
   "metadata": {},
   "source": [
    "#### Instance Variables\n",
    "Attributes unique to each object. As an example, all particles in the universe have a unique physical position in space. If the class is defined properly, it should be possible to set the position variable uniquely for each particle."
   ]
  },
  {
   "cell_type": "code",
   "execution_count": 83,
   "metadata": {},
   "outputs": [
    {
     "name": "stdout",
     "output_type": "stream",
     "text": [
      "[<class 'particle.Particle'>, <class 'particle.Particle'>]\n",
      "['__class__', '__delattr__', '__dict__', '__dir__', '__doc__', '__eq__', '__format__', '__ge__', '__getattribute__', '__getstate__', '__gt__', '__hash__', '__init__', '__init_subclass__', '__le__', '__lt__', '__module__', '__ne__', '__new__', '__reduce__', '__reduce_ex__', '__repr__', '__setattr__', '__sizeof__', '__str__', '__subclasshook__', '__weakref__', 'r', 'roar']\n",
      "{'x': 0.01, 'y': 99.0, 'z': 32.0}\n",
      "{'x': 0.01, 'y': 99.0, 'z': 32.0}\n"
     ]
    }
   ],
   "source": [
    "from particle import Particle as part\n",
    "obs = []\n",
    "obs.append(part)\n",
    "obs[0].r = {'x': 100.0, 'y': 38.0, 'z': -42.0}\n",
    "obs.append(part)\n",
    "obs[1].r = {'x': 0.01, 'y': 99.0, 'z': 32.0}\n",
    "\n",
    "print(obs)\n",
    "print(dir(obs[0]))\n",
    "print(obs[0].r)\n",
    "print(obs[1].r)"
   ]
  },
  {
   "cell_type": "markdown",
   "metadata": {},
   "source": [
    "Object orientation simplifies the cognitive task of describing the data and behavior of particles. For starters, all particles have position, mass, charge, and spin — much of the rest can be derived."
   ]
  },
  {
   "cell_type": "markdown",
   "metadata": {},
   "source": [
    "#### Constructors\n",
    "A constructor is a function that is executed upon instantiation of an object. That is, when you set `higgs = p.Particle()`, an object of the Particle type is created and the `__init__()` method is called to initialize that object.\n",
    "  \n",
    "All classes have a *default constructor*, but a custom one can be made to perform actions specific to defining objects of the class."
   ]
  },
  {
   "cell_type": "markdown",
   "metadata": {},
   "source": [
    ">Introducing instance variables outside of an `__init__()` function is somewhat risky, because there is no guarantee that they’ll be initialized\n",
    "by the time you need to use them. Try to avoid it."
   ]
  },
  {
   "cell_type": "markdown",
   "metadata": {},
   "source": [
    "Adding this to the definition of particle.py\n",
    "```\n",
    "def __init__(self, charge, mass, position):\n",
    "    \"\"\"Initializes the particle with supplied values for\n",
    "    charge c, mass m, and position r.\n",
    "    \"\"\"\n",
    "    self.c = charge\n",
    "    self.m = mass\n",
    "    self.r = position\n",
    "```"
   ]
  },
  {
   "cell_type": "markdown",
   "metadata": {},
   "source": [
    "### Methods\n",
    "The constructor, as mentioned previously, is a special method in Python, but many other methods can exist in a class definition. Methods are functions, but not all functions are methods. They are distinguished from functions purely by the fact that they are tied to a class definition. Specifically, when a method is called, the object that the method is found on is implicitly passed into the method as the first positional argument.\n",
    "\n",
    "Adding to particle.py:\n",
    "```\n",
    "def hear_me(self):\n",
    "    myroar = self.roar + (\n",
    "    \" My charge is: \" + str(self.c) +\n",
    "    \" My mass is: \" + str(self.m) +\n",
    "    \" My x position is: \" + str(self.r['x']) +\n",
    "    \" My y position is: \" + str(self.r['y']) +\n",
    "    \" My z position is: \" + str(self.r['z']))\n",
    "    print(myroar)\n",
    "```"
   ]
  },
  {
   "cell_type": "code",
   "execution_count": 84,
   "metadata": {},
   "outputs": [
    {
     "ename": "TypeError",
     "evalue": "Particle() takes no arguments",
     "output_type": "error",
     "traceback": [
      "\u001b[1;31m---------------------------------------------------------------------------\u001b[0m",
      "\u001b[1;31mTypeError\u001b[0m                                 Traceback (most recent call last)",
      "\u001b[1;32mc:\\Users\\hb23457\\AppData\\Local\\anaconda3\\envs\\learnPy\\learn_oop.ipynb Cell 16\u001b[0m line \u001b[0;36m6\n\u001b[0;32m      <a href='vscode-notebook-cell:/c%3A/Users/hb23457/AppData/Local/anaconda3/envs/learnPy/learn_oop.ipynb#X26sZmlsZQ%3D%3D?line=3'>4</a>\u001b[0m m_p \u001b[39m=\u001b[39m constants\u001b[39m.\u001b[39mm_p\n\u001b[0;32m      <a href='vscode-notebook-cell:/c%3A/Users/hb23457/AppData/Local/anaconda3/envs/learnPy/learn_oop.ipynb#X26sZmlsZQ%3D%3D?line=4'>5</a>\u001b[0m r_p \u001b[39m=\u001b[39m {\u001b[39m'\u001b[39m\u001b[39mx\u001b[39m\u001b[39m'\u001b[39m: \u001b[39m1\u001b[39m, \u001b[39m'\u001b[39m\u001b[39my\u001b[39m\u001b[39m'\u001b[39m: \u001b[39m1\u001b[39m, \u001b[39m'\u001b[39m\u001b[39mz\u001b[39m\u001b[39m'\u001b[39m: \u001b[39m53\u001b[39m}\n\u001b[1;32m----> <a href='vscode-notebook-cell:/c%3A/Users/hb23457/AppData/Local/anaconda3/envs/learnPy/learn_oop.ipynb#X26sZmlsZQ%3D%3D?line=5'>6</a>\u001b[0m a_p \u001b[39m=\u001b[39m p\u001b[39m.\u001b[39;49mParticle(\u001b[39m1\u001b[39;49m, m_p, r_p)\n\u001b[0;32m      <a href='vscode-notebook-cell:/c%3A/Users/hb23457/AppData/Local/anaconda3/envs/learnPy/learn_oop.ipynb#X26sZmlsZQ%3D%3D?line=6'>7</a>\u001b[0m a_p\u001b[39m.\u001b[39mhear_me()\n",
      "\u001b[1;31mTypeError\u001b[0m: Particle() takes no arguments"
     ]
    }
   ],
   "source": [
    "from scipy import constants\n",
    "import particle as p\n",
    "\n",
    "m_p = constants.m_p\n",
    "r_p = {'x': 1, 'y': 1, 'z': 53}\n",
    "a_p = p.Particle(1, m_p, r_p)\n",
    "a_p.hear_me()"
   ]
  },
  {
   "cell_type": "code",
   "execution_count": null,
   "metadata": {},
   "outputs": [
    {
     "name": "stdout",
     "output_type": "stream",
     "text": [
      "bottom\n"
     ]
    }
   ],
   "source": [
    "from quark import Quark\n",
    "t = Quark()\n",
    "t.flavor = \"top\"\n",
    "t.flip()\n",
    "print(t.flavor)"
   ]
  }
 ],
 "metadata": {
  "kernelspec": {
   "display_name": "Python 3",
   "language": "python",
   "name": "python3"
  },
  "language_info": {
   "codemirror_mode": {
    "name": "ipython",
    "version": 3
   },
   "file_extension": ".py",
   "mimetype": "text/x-python",
   "name": "python",
   "nbconvert_exporter": "python",
   "pygments_lexer": "ipython3",
   "version": "3.11.5"
  },
  "orig_nbformat": 4
 },
 "nbformat": 4,
 "nbformat_minor": 2
}
