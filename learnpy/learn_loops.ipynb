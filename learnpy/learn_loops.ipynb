{
 "cells": [
  {
   "cell_type": "markdown",
   "metadata": {},
   "source": [
    "### While loop"
   ]
  },
  {
   "cell_type": "code",
   "execution_count": 288,
   "metadata": {},
   "outputs": [
    {
     "name": "stdout",
     "output_type": "stream",
     "text": [
      "[1, 1, 2, 3, 5, 8, 13, 21, 34, 55, 89]\n",
      "[1, 1, 2, 3, 5, 8, 13, 21, 34, 55, 89]\n"
     ]
    }
   ],
   "source": [
    "fib = [1, 1]\n",
    "while True:\n",
    "    x = fib[-2] + fib[-1]\n",
    "    if x%12 == 0:\n",
    "        break\n",
    "    fib.append(x)\n",
    "print(fib)\n",
    "\n",
    "fib = [1, 1]\n",
    "x = 2 # Next value in sequence\n",
    "while x%12 != 0:\n",
    "    fib.append(x)\n",
    "    x = fib[-2] + fib[-1]\n",
    "print(fib)"
   ]
  },
  {
   "cell_type": "code",
   "execution_count": 289,
   "metadata": {},
   "outputs": [
    {
     "name": "stdout",
     "output_type": "stream",
     "text": [
      "Daily visitors: [13786, 10436, 12305, 13268, 14946, 19747, 19340]\n",
      "Total visitors: 103828\n"
     ]
    }
   ],
   "source": [
    "import random\n",
    "target = 100_000\n",
    "visitors = []\n",
    "while sum(visitors) < target:\n",
    "    day = random.randrange(10_000,20_000)\n",
    "    visitors.append(day)\n",
    "print(\"Daily visitors: {0}\".format(visitors))\n",
    "print(f\"Total visitors: {sum(visitors)}\")"
   ]
  },
  {
   "cell_type": "markdown",
   "metadata": {},
   "source": [
    "### For loop"
   ]
  },
  {
   "cell_type": "code",
   "execution_count": 290,
   "metadata": {},
   "outputs": [
    {
     "name": "stdout",
     "output_type": "stream",
     "text": [
      "['my_song_1.flac', 'my_song_2.flac', 'my_song_3.flac']\n"
     ]
    }
   ],
   "source": [
    "#For loop similar to \"map\" result\n",
    "songs = [\"1.mp3\",\"2.mp3\",\"3.mp3\"]\n",
    "song_rn = lambda song: f\"my_song_{song.split('.')[0]}.flac\"\n",
    "converted = []\n",
    "for i in songs:\n",
    "    converted.append(song_rn(i))\n",
    "print(converted)"
   ]
  },
  {
   "cell_type": "markdown",
   "metadata": {},
   "source": [
    "Continue with for loop"
   ]
  },
  {
   "cell_type": "code",
   "execution_count": 307,
   "metadata": {},
   "outputs": [
    {
     "name": "stdout",
     "output_type": "stream",
     "text": [
      "t-minus 7\n",
      "t-minus 5\n",
      "t-minus 3\n",
      "t-minus 1\n",
      "blastoff!\n"
     ]
    }
   ],
   "source": [
    "for t in [7, 6, 5, 4, 3, 2, 1]:\n",
    "    if t%2 == 0:\n",
    "        continue\n",
    "    print(\"t-minus \" + str(t))\n",
    "print(\"blastoff!\")"
   ]
  },
  {
   "cell_type": "markdown",
   "metadata": {},
   "source": [
    "#### Example iterables in for loop"
   ]
  },
  {
   "cell_type": "markdown",
   "metadata": {},
   "source": [
    "List"
   ]
  },
  {
   "cell_type": "code",
   "execution_count": 291,
   "metadata": {},
   "outputs": [
    {
     "name": "stdout",
     "output_type": "stream",
     "text": [
      "0.041666666666666664\n"
     ]
    }
   ],
   "source": [
    "number_sum = 1\n",
    "for num in [1,2,3,4]:\n",
    "    number_sum /= num\n",
    "print(number_sum)"
   ]
  },
  {
   "cell_type": "markdown",
   "metadata": {},
   "source": [
    "String"
   ]
  },
  {
   "cell_type": "code",
   "execution_count": 292,
   "metadata": {},
   "outputs": [
    {
     "name": "stdout",
     "output_type": "stream",
     "text": [
      "H e l l o   W o r l d \n"
     ]
    }
   ],
   "source": [
    "for letter in \"Hello World\":\n",
    "    print(letter, end=\" \")\n",
    "print(\"\")"
   ]
  },
  {
   "cell_type": "markdown",
   "metadata": {},
   "source": [
    "<dev class=\"alert alert-note alert-info\">\n",
    "Sets and dictionaries are randomly indexed in for and while loops so the loop order is unpredictable.\n",
    "</dev>"
   ]
  },
  {
   "cell_type": "markdown",
   "metadata": {},
   "source": [
    "Dictionary - Loop iterates through keys by default"
   ]
  },
  {
   "cell_type": "code",
   "execution_count": 293,
   "metadata": {},
   "outputs": [
    {
     "name": "stdout",
     "output_type": "stream",
     "text": [
      "['blue', 'round']\n",
      "['blue', 'round'] <class 'list'>\n"
     ]
    }
   ],
   "source": [
    "my_dict = {\"color\": \"blue\", \"shape\": \"round\"}\n",
    "my_list = []\n",
    "for key in my_dict:\n",
    "    my_list.append(my_dict[key])\n",
    "print(my_list)\n",
    "new_vals = list(my_dict.values())\n",
    "print(new_vals, type(new_vals))"
   ]
  },
  {
   "cell_type": "markdown",
   "metadata": {},
   "source": [
    "Map - convert to list before iterating"
   ]
  },
  {
   "cell_type": "code",
   "execution_count": 294,
   "metadata": {},
   "outputs": [
    {
     "name": "stdout",
     "output_type": "stream",
     "text": [
      "['my_song_1.flac', 'my_song_2.flac', 'my_song_3.flac'] <class 'list'>\n",
      "Renamed song: my_song_1.flac\n",
      "Renamed song: my_song_2.flac\n",
      "Renamed song: my_song_3.flac\n"
     ]
    }
   ],
   "source": [
    "iterable4 = map(lambda song: f\"my_song_{song.split('.')[0]}.flac\", [\"1.mp3\",\"2.mp3\",\"3.mp3\"])\n",
    "it4_list = list(iterable4)\n",
    "print(it4_list, type(it4_list))\n",
    "for song in it4_list:\n",
    "    print(\"Renamed song: {0}\".format(song))"
   ]
  },
  {
   "cell_type": "markdown",
   "metadata": {},
   "source": [
    "Range"
   ]
  },
  {
   "cell_type": "code",
   "execution_count": 295,
   "metadata": {},
   "outputs": [
    {
     "name": "stdout",
     "output_type": "stream",
     "text": [
      "1 2 3 4 \n"
     ]
    }
   ],
   "source": [
    "for idx in range(1,5):\n",
    "    print(idx, end=\" \")\n",
    "print(\"\")"
   ]
  },
  {
   "cell_type": "markdown",
   "metadata": {},
   "source": [
    "Enumerate"
   ]
  },
  {
   "cell_type": "code",
   "execution_count": 296,
   "metadata": {},
   "outputs": [
    {
     "name": "stdout",
     "output_type": "stream",
     "text": [
      "0 -> Monday\n",
      "1 -> Tuesday\n",
      "2 -> Wednesday\n",
      "3 -> Thursday\n",
      "4 -> Friday\n",
      "5 -> Saturday\n",
      "6 -> Sunday\n"
     ]
    }
   ],
   "source": [
    "dow = [\"Monday\",\"Tuesday\",\"Wednesday\",\"Thursday\",\"Friday\",\"Saturday\",\"Sunday\"]\n",
    "for i, day in enumerate(dow):\n",
    "    print(f\"{i} -> {day}\")"
   ]
  },
  {
   "cell_type": "markdown",
   "metadata": {},
   "source": [
    "### List Comprehension\n",
    "Used to store output of process in a list directly from one line of code using for loop. Can also be done for dictionaries, etc."
   ]
  },
  {
   "cell_type": "code",
   "execution_count": 297,
   "metadata": {},
   "outputs": [
    {
     "name": "stdout",
     "output_type": "stream",
     "text": [
      "['my_song_1.flac', 'my_song_2.flac', 'my_song_3.flac']\n"
     ]
    }
   ],
   "source": [
    "#Recall song_rn function\n",
    "list_comp = [song_rn(x) for x in songs]\n",
    "print(list_comp)"
   ]
  },
  {
   "cell_type": "markdown",
   "metadata": {},
   "source": [
    "#### List comprehension with filter\n",
    "`[<expr> for <loop-var> in <iterable> if <condition>]`  \n",
    "\n",
    "This is shorthand for:\n",
    "```\n",
    "new_list = []\n",
    "for <loop-var> in <iterable>:\n",
    "    if <condition>:\n",
    "        new_list.append(<expr>)\n",
    "```"
   ]
  },
  {
   "cell_type": "markdown",
   "metadata": {},
   "source": [
    "**Example**: Find all words in \"pm\" that start with the letter t"
   ]
  },
  {
   "cell_type": "code",
   "execution_count": 310,
   "metadata": {},
   "outputs": [
    {
     "name": "stdout",
     "output_type": "stream",
     "text": [
      "['tart', 'tought', 'too']\n"
     ]
    }
   ],
   "source": [
    "pm = [\"tart\", \"say\", \"penny\", \"tought\", \"too\"]\n",
    "t_words = [word for word in pm if word.startswith('t')]\n",
    "print(t_words)"
   ]
  },
  {
   "cell_type": "markdown",
   "metadata": {},
   "source": [
    "Reverse key-value pairs in dictionary"
   ]
  },
  {
   "cell_type": "code",
   "execution_count": 309,
   "metadata": {},
   "outputs": [
    {
     "name": "stdout",
     "output_type": "stream",
     "text": [
      "{1: 'hello', 2: 'goodbye', 3: 'greetings'}\n",
      "{'hello': 1, 'goodbye': 2, 'greetings': 3}\n"
     ]
    }
   ],
   "source": [
    "my_dict = {1: \"hello\",2: \"goodbye\",3: \"greetings\"}\n",
    "my_dict2 = {value: key for key, value in my_dict.items()}\n",
    "print(my_dict)\n",
    "print(my_dict2)"
   ]
  },
  {
   "cell_type": "markdown",
   "metadata": {},
   "source": [
    "Retain mapping from input to output in dictionary"
   ]
  },
  {
   "cell_type": "code",
   "execution_count": 308,
   "metadata": {},
   "outputs": [
    {
     "name": "stdout",
     "output_type": "stream",
     "text": [
      "{1: 43, 10: 142, 12.5: 198.25, 65: 4267, 88: 7786}\n"
     ]
    }
   ],
   "source": [
    "entries = [1, 10, 12.5, 65, 88]\n",
    "results = {x: x**2 + 42 for x in entries}\n",
    "print(results)"
   ]
  },
  {
   "cell_type": "markdown",
   "metadata": {},
   "source": [
    "### Recursion\n",
    "Refers to when a function calls itself within the function"
   ]
  },
  {
   "cell_type": "code",
   "execution_count": 299,
   "metadata": {},
   "outputs": [
    {
     "name": "stdout",
     "output_type": "stream",
     "text": [
      "10,9,8,7,6,5,4,3,2,1,\n",
      "Happy New Year!!\n",
      "10,9,8,7,6,5,4,3,2,1,\n",
      "Happy New Year!!\n"
     ]
    }
   ],
   "source": [
    "def countdown(n):\n",
    "    if n > 0:\n",
    "        print(n, end=\",\")\n",
    "        countdown(n-1)\n",
    "    else:\n",
    "        print(\"\\nHappy New Year!!\")\n",
    "countdown(10)\n",
    "#This can also be done with a while loop\n",
    "def countdown2(n):\n",
    "    while n > 0:\n",
    "        print(n, end=\",\")\n",
    "        n -= 1\n",
    "    print(\"\\nHappy New Year!!\")\n",
    "countdown2(10)"
   ]
  },
  {
   "cell_type": "markdown",
   "metadata": {},
   "source": [
    "### Examples"
   ]
  },
  {
   "cell_type": "markdown",
   "metadata": {},
   "source": [
    "#### Fizzbuzz"
   ]
  },
  {
   "cell_type": "code",
   "execution_count": 300,
   "metadata": {},
   "outputs": [
    {
     "name": "stdout",
     "output_type": "stream",
     "text": [
      "[1, 2, 'fizz', 4, 'buzz', 'fizz', 7, 8, 'fizz', 'buzz', 11, 'fizz', 13, 14, 'fizzbuzz', 16, 17, 'fizz', 19, 'buzz']\n",
      "[1, 2, 'fizz', 4, 'buzz', 'fizz', 7, 8, 'fizz', 'buzz', 11, 'fizz', 13, 14, 'fizzbuzz', 16, 17, 'fizz', 19, 'buzz']\n"
     ]
    }
   ],
   "source": [
    "def fizz_buzz(num):\n",
    "    if num % 3 == 0:\n",
    "        if num % 15 == 0:\n",
    "            return \"fizzbuzz\"\n",
    "        else:\n",
    "            return \"fizz\"\n",
    "    elif num % 5 == 0:\n",
    "        return \"buzz\"\n",
    "    return num\n",
    "\n",
    "fizzbuzz_number = []\n",
    "for number in range(1,20+1):\n",
    "    fn = fizz_buzz(number)\n",
    "    fizzbuzz_number.append(fn)\n",
    "print(fizzbuzz_number)\n",
    "\n",
    "#Can achieve same result as for loop by using map\n",
    "fizzbuzz_number2 = list(map(fizz_buzz, range(1, 20+1)))\n",
    "print(fizzbuzz_number2)"
   ]
  },
  {
   "cell_type": "markdown",
   "metadata": {},
   "source": [
    "#### tqdm - progress bar"
   ]
  },
  {
   "cell_type": "code",
   "execution_count": 301,
   "metadata": {},
   "outputs": [
    {
     "name": "stderr",
     "output_type": "stream",
     "text": [
      "100%|██████████| 29/29 [00:01<00:00, 18.68it/s]\n"
     ]
    }
   ],
   "source": [
    "import time\n",
    "from tqdm import tqdm\n",
    "pages = range(1,30)\n",
    "for page in tqdm(pages):\n",
    "    time.sleep(random.randrange(1, 10)/100)"
   ]
  },
  {
   "cell_type": "markdown",
   "metadata": {},
   "source": [
    "#### Stock return challenge\n",
    "Given a week of stock prices, find the theoretical max profit that can be made."
   ]
  },
  {
   "cell_type": "code",
   "execution_count": 306,
   "metadata": {},
   "outputs": [
    {
     "name": "stdout",
     "output_type": "stream",
     "text": [
      "3.4 -> 3.5\n",
      "2.8 -> 3.9\n",
      "3.9 -> 4.1\n",
      "Max profit: 1.4\n"
     ]
    }
   ],
   "source": [
    "def max_profit(prices):\n",
    "    profit = 0\n",
    "    for i in range(0,len(prices)-1):\n",
    "        val = prices[i+1]\n",
    "        if val > prices[i]:\n",
    "            print(f\"{prices[i]} -> {val}\")\n",
    "            profit += val - prices[i]\n",
    "    print(\"Max profit:\", profit)\n",
    "stock_prices = [3.4,3.5,3.2,2.8,3.9,4.1,3.3]\n",
    "max_profit(stock_prices)"
   ]
  },
  {
   "cell_type": "markdown",
   "metadata": {},
   "source": [
    "#### Robot Picking Interview Question\n",
    "Imagine we have a robot that picks items from a shelf. The robot can go up(U), down(D), left(L), and right(R). Given a sequence of movements (e.g. URDDL) determine if the robot has successfully picked up the item from the shelf and returned to its original position."
   ]
  },
  {
   "cell_type": "code",
   "execution_count": 303,
   "metadata": {},
   "outputs": [
    {
     "name": "stdout",
     "output_type": "stream",
     "text": [
      "RLLUULRRDD\n",
      "True\n",
      "Home\n"
     ]
    }
   ],
   "source": [
    "robot_mov = \"RLLUULRRDD\"\n",
    "print(robot_mov)\n",
    "def check_home(moves):\n",
    "    x = y = 0\n",
    "    for position in moves:\n",
    "        if position == \"U\":\n",
    "            y += 1\n",
    "        if position == \"D\":\n",
    "            y -= 1\n",
    "        if position == \"L\":\n",
    "            x -= 1\n",
    "        if position == \"R\":\n",
    "            x += 1\n",
    "    print(x == 0 and y == 0)\n",
    "check_home(robot_mov)\n",
    "\n",
    "# My custom alternative method\n",
    "def my_check_home(moves):\n",
    "    pos = [i for i in moves]\n",
    "    if pos.count(\"R\") != pos.count(\"L\") & pos.count(\"U\") != pos.count(\"D\"):\n",
    "        print(\"Not home\")\n",
    "    else:\n",
    "        print(\"Home\")\n",
    "my_check_home(robot_mov)"
   ]
  }
 ],
 "metadata": {
  "kernelspec": {
   "display_name": "Python 3",
   "language": "python",
   "name": "python3"
  },
  "language_info": {
   "codemirror_mode": {
    "name": "ipython",
    "version": 3
   },
   "file_extension": ".py",
   "mimetype": "text/x-python",
   "name": "python",
   "nbconvert_exporter": "python",
   "pygments_lexer": "ipython3",
   "version": "3.11.5"
  },
  "orig_nbformat": 4
 },
 "nbformat": 4,
 "nbformat_minor": 2
}
