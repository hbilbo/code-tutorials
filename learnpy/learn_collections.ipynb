{
 "cells": [
  {
   "cell_type": "markdown",
   "metadata": {},
   "source": [
    "### **Lists**"
   ]
  },
  {
   "cell_type": "code",
   "execution_count": 1,
   "metadata": {},
   "outputs": [
    {
     "name": "stdout",
     "output_type": "stream",
     "text": [
      "['dog', 'monkey', 'zebra']\n",
      "['__add__', '__class__', '__class_getitem__', '__contains__', '__delattr__', '__delitem__', '__dir__', '__doc__', '__eq__', '__format__', '__ge__', '__getattribute__', '__getitem__', '__getstate__', '__gt__', '__hash__', '__iadd__', '__imul__', '__init__', '__init_subclass__', '__iter__', '__le__', '__len__', '__lt__', '__mul__', '__ne__', '__new__', '__reduce__', '__reduce_ex__', '__repr__', '__reversed__', '__rmul__', '__setattr__', '__setitem__', '__sizeof__', '__str__', '__subclasshook__', 'append', 'clear', 'copy', 'count', 'extend', 'index', 'insert', 'pop', 'remove', 'reverse', 'sort']\n",
      "[1, 2, 3, 4] <class 'list'>\n",
      "4\n"
     ]
    }
   ],
   "source": [
    "animal_1 = \"dog\"\n",
    "animal_2 = \"monkey\"\n",
    "animal_3 = \"zebra\"\n",
    "animals = [animal_1, animal_2, animal_3]\n",
    "print(animals); print(dir(animals))\n",
    "numbers = [1,2,3,4]\n",
    "print(numbers, type(numbers))\n",
    "print(len(numbers))"
   ]
  },
  {
   "cell_type": "markdown",
   "metadata": {},
   "source": [
    "#### **Concatenation**"
   ]
  },
  {
   "cell_type": "code",
   "execution_count": 2,
   "metadata": {},
   "outputs": [
    {
     "name": "stdout",
     "output_type": "stream",
     "text": [
      "dogmonkeyzebra\n",
      "dog,monkey,zebra\n",
      "H + H -> H2\n",
      "Science is what we understand well enough to explain to a computer. Art is everything else we do. -Donald Knuth\n"
     ]
    }
   ],
   "source": [
    "print(animal_1 + animal_2 + animal_3)\n",
    "print(','.join([animal_1, animal_2, animal_3]))\n",
    "print(\"H + H\"   \" -> H2\") # Combines two adjacent strings\n",
    "quote = (\"Science is what we understand well enough to explain to a computer. \\\n",
    "Art is everything else we do. -Donald Knuth\")\n",
    "print(quote)"
   ]
  },
  {
   "cell_type": "markdown",
   "metadata": {},
   "source": [
    "### **Indexing**"
   ]
  },
  {
   "cell_type": "code",
   "execution_count": 3,
   "metadata": {},
   "outputs": [
    {
     "name": "stdout",
     "output_type": "stream",
     "text": [
      "[1, 2, 3, 4]\n",
      "1\n",
      "4\n",
      "[3, 4]\n",
      "[3, 4]\n"
     ]
    }
   ],
   "source": [
    "numbers = [1,2,3,4]\n",
    "print(numbers)\n",
    "print(numbers[0]) #first value\n",
    "print(numbers[-1]) #index last value\n",
    "print(numbers[2:]) #remove first two values\n",
    "print(numbers[2:4])"
   ]
  },
  {
   "cell_type": "markdown",
   "metadata": {},
   "source": [
    "Note that calling 2:4 slices \"numbers\" from 2 (included) to 4(excluded). This ensures that numbers[0:i] + numbers[i:] = numbers. Think of it as slicing from position 0 to element 4, which would correspond to position 3. e.g. [0:4] goes from position 0 to the 4th element, i.e. number 4 in \"numbers\"."
   ]
  },
  {
   "cell_type": "code",
   "execution_count": 4,
   "metadata": {},
   "outputs": [
    {
     "name": "stdout",
     "output_type": "stream",
     "text": [
      "numbers[0:2] + numbers[2:] = [1, 2, 3, 4]\n",
      "BC\n",
      "abcdefghijklmnopqrstuvwxyz\n",
      "True\n",
      "<class 'slice'>\n",
      "bcd\n"
     ]
    }
   ],
   "source": [
    "print(f\"{numbers[0:2] + numbers[2:] = }\")\n",
    "# Define step value\n",
    "q = \"AaBbCcDdEeFfGgHhIiJjKkLlMmNnOoPpQqRrSsTtUuVvWwXxYyZz\"\n",
    "# list[start:stop:step]\n",
    "print(q[2:5:2])\n",
    "print(q[1::2])\n",
    "# Palindrome test\n",
    "x = \"racecar\"\n",
    "print(x == x[::-1]) # Reverses sequence\n",
    "my_slice = slice(3,9,2) # Define slice object\n",
    "print(type(my_slice))\n",
    "print(q[my_slice])"
   ]
  },
  {
   "cell_type": "markdown",
   "metadata": {},
   "source": [
    "### **Reference Counting**\n",
    "When setting x = y = 1, Python first stores the integer 1 in memory. It then sets the names x and y to refer to the same point in memory that 1 lives. This saves on memory, and means that changing one aspect of x or y will affect the other. Using .copy() will create two independent variables both stored in memory."
   ]
  },
  {
   "cell_type": "code",
   "execution_count": 5,
   "metadata": {},
   "outputs": [
    {
     "name": "stdout",
     "output_type": "stream",
     "text": [
      "[0, 4, 6, 8, 9]\n",
      "[0, 4, 6, 8]\n"
     ]
    }
   ],
   "source": [
    "vec1 = [0,4,6,8]\n",
    "vec2 = vec1\n",
    "vec3 = vec1.copy()\n",
    "vec2.append(9) #vec1 also appends 9 since they are referenced together. need to use \"copy\" to separate them\n",
    "print(vec1)\n",
    "print(vec3)"
   ]
  },
  {
   "cell_type": "markdown",
   "metadata": {},
   "source": [
    "### **Methods**"
   ]
  },
  {
   "cell_type": "code",
   "execution_count": 6,
   "metadata": {},
   "outputs": [
    {
     "name": "stdout",
     "output_type": "stream",
     "text": [
      "['__add__', '__class__', '__class_getitem__', '__contains__', '__delattr__', '__delitem__', '__dir__', '__doc__', '__eq__', '__format__', '__ge__', '__getattribute__', '__getitem__', '__getstate__', '__gt__', '__hash__', '__iadd__', '__imul__', '__init__', '__init_subclass__', '__iter__', '__le__', '__len__', '__lt__', '__mul__', '__ne__', '__new__', '__reduce__', '__reduce_ex__', '__repr__', '__reversed__', '__rmul__', '__setattr__', '__setitem__', '__sizeof__', '__str__', '__subclasshook__', 'append', 'clear', 'copy', 'count', 'extend', 'index', 'insert', 'pop', 'remove', 'reverse', 'sort']\n",
      "[0, 4, 6, 8, [2, 3, 4]]\n",
      "[0, 4, 6, 8, [2, 3, 4], 2, 3, 4]\n",
      "[2, 3, 4]\n",
      "[0, 4, 6, 8, [2, 3, 4], 2, 3, 4, 4, 2, 0]\n",
      "2\n",
      "[8, [2, 3, 4], 2, 3, 4, 4, 2, 0]\n"
     ]
    }
   ],
   "source": [
    "vec = [0,4,6,8]\n",
    "print(dir(vec))\n",
    "vec.append([2,3,4]) #append imbeds this as another list\n",
    "print(vec)\n",
    "vec.extend([2,3,4]) #extend imbeds the numbers themselves into the list\n",
    "print(vec)\n",
    "print(vec[4])\n",
    "vec += [4,2,0]\n",
    "print(vec)\n",
    "print(vec.count(2))\n",
    "del vec[:3]; print(vec)"
   ]
  },
  {
   "cell_type": "markdown",
   "metadata": {},
   "source": [
    "### **Tuples** - Immutable lists"
   ]
  },
  {
   "cell_type": "code",
   "execution_count": 7,
   "metadata": {},
   "outputs": [
    {
     "name": "stdout",
     "output_type": "stream",
     "text": [
      "255 0 0\n",
      "(1, 2, 5, 3) <class 'tuple'>\n",
      "(0, 1, 'tup')\n",
      "(1, 2, [3, 5, 16])\n"
     ]
    }
   ],
   "source": [
    "color = (255, 0, 0)\n",
    "red, green, blue = color\n",
    "print(red, green, blue)\n",
    "my_tup = 1, 2, 5, 3\n",
    "print(my_tup, type(my_tup))\n",
    "print(tuple([0, 1, \"tup\"]))\n",
    "#Lists imbedded in tuples are mutable\n",
    "my_tup_list = (1,2,[3,5])\n",
    "my_tup_list[2].append(16)\n",
    "print(my_tup_list)"
   ]
  },
  {
   "cell_type": "markdown",
   "metadata": {},
   "source": [
    "### **Sets** - remove duplicate items and view set differences<br>\n",
    "For items to be put in a set, they must be *hashable*. If two variables of the same type map to the same integer, then\n",
    "\n",
    "`hash(x) == hash(y)` implies that `x == y`<br>\n",
    "\n",
    "If they are not of the same type, this isn't necessarily true. hash(\"\") == hash(0.0) but \"\" is obviously not equal to 0.0.\n",
    "An item is hashable if it is immutable. Lists cannot go in sets, but tuples can if they don't contain any lists."
   ]
  },
  {
   "cell_type": "code",
   "execution_count": 8,
   "metadata": {},
   "outputs": [
    {
     "name": "stdout",
     "output_type": "stream",
     "text": [
      "s1 =  {1, 2, 3, 5, 6}\n",
      "s2 =  {1, 3, 5, 6, 7}\n",
      "['__and__', '__class__', '__class_getitem__', '__contains__', '__delattr__', '__dir__', '__doc__', '__eq__', '__format__', '__ge__', '__getattribute__', '__getstate__', '__gt__', '__hash__', '__iand__', '__init__', '__init_subclass__', '__ior__', '__isub__', '__iter__', '__ixor__', '__le__', '__len__', '__lt__', '__ne__', '__new__', '__or__', '__rand__', '__reduce__', '__reduce_ex__', '__repr__', '__ror__', '__rsub__', '__rxor__', '__setattr__', '__sizeof__', '__str__', '__sub__', '__subclasshook__', '__xor__', 'add', 'clear', 'copy', 'difference', 'difference_update', 'discard', 'intersection', 'intersection_update', 'isdisjoint', 'issubset', 'issuperset', 'pop', 'remove', 'symmetric_difference', 'symmetric_difference_update', 'union', 'update']\n",
      "s1 - s2 =  {2}\n",
      "{1.0, 10, 'one hundred', (1, 0, 0, 0)}\n",
      "{'a', 'e', 'u', 'M', 'r', ' ', 'i', 'C'}\n",
      "{'Marie Curie'}\n",
      "{1, 2, 3, 4, 5}\n",
      "{3}\n",
      "{1, 2}\n",
      "{1, 2, 4, 5}\n",
      "False\n",
      "False\n",
      "False\n",
      "False\n"
     ]
    }
   ],
   "source": [
    "s1 = {1,3,6,2,5,2}\n",
    "a2 = [1,7,6,5,3,6]\n",
    "print(\"s1 = \",s1)\n",
    "s2 = set(a2); print(\"s2 = \",s2)\n",
    "print(dir(s1))\n",
    "s3 = s1 - s2; print(\"s1 - s2 = \",s3)\n",
    "print({1.0, 10, \"one hundred\", (1, 0, 0,0)})\n",
    "print(set(\"Marie Curie\"))\n",
    "print(set([\"Marie Curie\"]))\n",
    "\n",
    "s = {1, 2, 3}; t = {3, 4, 5}\n",
    "print(s | t ) #Union {1, 2, 3, 4, 5}\n",
    "print(s & t ) #Intersection\n",
    "print(s - t ) #Difference—elements in s but not in t\n",
    "print(s ^ t ) #Symmetric diference—elements not in s or t\n",
    "print(s < t ) #Strict subset\n",
    "print(s <= t) #Subset\n",
    "print(s > t ) #Strict superset\n",
    "print(s >= t) #Superset"
   ]
  },
  {
   "cell_type": "markdown",
   "metadata": {},
   "source": [
    "### **Frozen set** - The same as a set but it is immutable"
   ]
  },
  {
   "cell_type": "code",
   "execution_count": 9,
   "metadata": {},
   "outputs": [
    {
     "name": "stdout",
     "output_type": "stream",
     "text": [
      "frozenset({1, 10, 5})\n",
      "nope\n"
     ]
    }
   ],
   "source": [
    "set_froz = frozenset([1, 5, 10])\n",
    "print(set_froz)\n",
    "try:\n",
    "    set_froz.append(3)\n",
    "except:\n",
    "    print(\"nope\")\n"
   ]
  },
  {
   "cell_type": "markdown",
   "metadata": {},
   "source": [
    "### **Dictionaries** - key-value pairs<br>\n",
    "* Python's native implementation of a *hash table*\n",
    "* They are fast and efficient at looking up values -> they incur very little overhead\n",
    "* Many different keys with the same value are allowed\n",
    "```\n",
    "my_dictionary = {\n",
    "    key1: value,\n",
    "    key2: value2,\n",
    "}\n",
    "\n",
    "my_dictionary = dict([(key1, value1), (key2, value2)])\n",
    "```"
   ]
  },
  {
   "cell_type": "code",
   "execution_count": 10,
   "metadata": {},
   "outputs": [
    {
     "name": "stdout",
     "output_type": "stream",
     "text": [
      "['__class__', '__class_getitem__', '__contains__', '__delattr__', '__delitem__', '__dir__', '__doc__', '__eq__', '__format__', '__ge__', '__getattribute__', '__getitem__', '__getstate__', '__gt__', '__hash__', '__init__', '__init_subclass__', '__ior__', '__iter__', '__le__', '__len__', '__lt__', '__ne__', '__new__', '__or__', '__reduce__', '__reduce_ex__', '__repr__', '__reversed__', '__ror__', '__setattr__', '__setitem__', '__sizeof__', '__str__', '__subclasshook__', 'clear', 'copy', 'fromkeys', 'get', 'items', 'keys', 'pop', 'popitem', 'setdefault', 'update', 'values']\n",
      "{'pi': 3.14159, 'e': 2.718, 'h': 6.62606957e-34, True: 1.0}\n",
      "y\n",
      "{'pi': 3.14159, 'e': 2.718, 'h': 6.62606957e-34, True: 1.0, 'g': 9.81}\n",
      "dict_keys(['first', 'last', 'birthday'])\n",
      "True\n",
      "{1: 'r', 2: 'phi', 3: 'theta'}\n",
      "Hash function outputs: 9085160421092467407 1\n"
     ]
    }
   ],
   "source": [
    "al = {\"first\": \"Albert\", \"last\": \"Einstein\", \"birthday\": [1879, 3, 14]}\n",
    "constants = {\n",
    "    \"pi\": 3.14159,\n",
    "    \"e\": 2.718,\n",
    "    \"h\": 6.62606957e-34,\n",
    "    True: 1.0,\n",
    "}\n",
    "# Defined with lists of tuples\n",
    "axes = dict([(1, \"x\"), (2, \"y\"), (3, \"z\")])\n",
    "\n",
    "print(dir(al))\n",
    "print(constants)\n",
    "print(axes[2])\n",
    "constants[\"g\"] = 9.81\n",
    "print(constants)\n",
    "print(al.keys())\n",
    "# Check if key exists\n",
    "print(1 in axes)\n",
    "\n",
    "#.update() method for replacing or adding items\n",
    "axes.update({1: 'r', 2: 'phi', 3: 'theta'})\n",
    "print(axes)\n",
    "print(\"Hash function outputs:\",hash(axes[1]),hash(constants[True]))"
   ]
  },
  {
   "cell_type": "markdown",
   "metadata": {},
   "source": [
    "Because dictionaries are mutable, they are not hashable themselves, and you cannot\n",
    "use a dictionary as a key in another dictionary. You may nest dictionaries as values,\n",
    "however."
   ]
  },
  {
   "cell_type": "code",
   "execution_count": 11,
   "metadata": {},
   "outputs": [
    {
     "name": "stdout",
     "output_type": "stream",
     "text": [
      "{'first': 'Albert', 'last': 'Einstein', 'birthday': [1879, 3, 14]}\n"
     ]
    }
   ],
   "source": [
    "dict_comb = {\"d1\": al, \"d2\": constants}\n",
    "print(dict_comb[\"d1\"])"
   ]
  },
  {
   "cell_type": "markdown",
   "metadata": {},
   "source": [
    "<div class=\"alert alert-block alert-info\">\n",
    "Dictionaries predate sets by over a decade in Python. Since the syntax collides, empty dicts and sets are defined as follows:\n",
    "</div>"
   ]
  },
  {
   "cell_type": "markdown",
   "metadata": {},
   "source": [
    "```\n",
    "{} # empty dict\n",
    "set() # empty set\n",
    "```"
   ]
  },
  {
   "cell_type": "markdown",
   "metadata": {},
   "source": [
    "### **EXAMPLE** - Convert nested lists into a single list"
   ]
  },
  {
   "cell_type": "markdown",
   "metadata": {},
   "source": [
    "Trying with list comprehension"
   ]
  },
  {
   "cell_type": "code",
   "execution_count": 12,
   "metadata": {},
   "outputs": [],
   "source": [
    "my_list = [1, 2, [3, 4, [5, 6]], 7, 8, [9, [10]]]\n",
    "new_list1 = [item for item in my_list if not isinstance(item,list)]\n",
    "# flatlist = [element for innerList in my_list for element in innerList]"
   ]
  },
  {
   "cell_type": "markdown",
   "metadata": {},
   "source": [
    "Using for loops"
   ]
  },
  {
   "cell_type": "code",
   "execution_count": 13,
   "metadata": {},
   "outputs": [],
   "source": [
    "my_list = [1, 2, [3, 4, [5, 6]], 7, 8, [9, [10]]]\n",
    "new_list2 = []\n",
    "for item in my_list:\n",
    "    if isinstance(item,list):\n",
    "        for sub_item in item:\n",
    "            if isinstance(sub_item,list):\n",
    "                new_list2.extend(sub_item)\n",
    "            else:\n",
    "                new_list2.append(sub_item)\n",
    "    else:\n",
    "        new_list2.append(item)"
   ]
  },
  {
   "cell_type": "markdown",
   "metadata": {},
   "source": [
    "Using recursion with function"
   ]
  },
  {
   "cell_type": "code",
   "execution_count": 14,
   "metadata": {},
   "outputs": [
    {
     "data": {
      "text/plain": [
       "[1, 2, 3, 4, 5, 6, 7, 8, 9, 10]"
      ]
     },
     "execution_count": 14,
     "metadata": {},
     "output_type": "execute_result"
    }
   ],
   "source": [
    "my_list = [1, 2, [3, 4, [5, 6]], 7, 8, [9, [10]]]\n",
    "new_list3 = []\n",
    "def removeNestings(l):\n",
    "    for i in l:\n",
    "        if type(i) == list:\n",
    "            removeNestings(i)\n",
    "        else:\n",
    "            new_list3.append(i)\n",
    "    return new_list3\n",
    "removeNestings(my_list)"
   ]
  },
  {
   "cell_type": "code",
   "execution_count": 15,
   "metadata": {},
   "outputs": [
    {
     "name": "stdout",
     "output_type": "stream",
     "text": [
      "Original list: [1, 2, [3, 4, [5, 6]], 7, 8, [9, [10]]]\n",
      "Flattened list 1: [1, 2, 7, 8]\n",
      "Flattened list 2: [1, 2, 3, 4, 5, 6, 7, 8, 9, 10]\n",
      "Flattened list 3: [1, 2, 3, 4, 5, 6, 7, 8, 9, 10]\n"
     ]
    }
   ],
   "source": [
    "print(\"Original list:\",my_list)\n",
    "print(\"Flattened list 1:\",new_list1)\n",
    "print(\"Flattened list 2:\",new_list2)\n",
    "print(\"Flattened list 3:\",new_list3)"
   ]
  }
 ],
 "metadata": {
  "kernelspec": {
   "display_name": "Python 3",
   "language": "python",
   "name": "python3"
  },
  "language_info": {
   "codemirror_mode": {
    "name": "ipython",
    "version": 3
   },
   "file_extension": ".py",
   "mimetype": "text/x-python",
   "name": "python",
   "nbconvert_exporter": "python",
   "pygments_lexer": "ipython3",
   "version": "3.11.5"
  },
  "orig_nbformat": 4
 },
 "nbformat": 4,
 "nbformat_minor": 2
}
