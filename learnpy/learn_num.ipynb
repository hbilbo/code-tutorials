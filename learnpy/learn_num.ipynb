{
 "cells": [
  {
   "cell_type": "markdown",
   "metadata": {},
   "source": [
    "Operators"
   ]
  },
  {
   "cell_type": "code",
   "execution_count": 1,
   "metadata": {},
   "outputs": [
    {
     "name": "stdout",
     "output_type": "stream",
     "text": [
      "a = 8\n",
      "9 % 3 = 0\n",
      "9 % 3 = 0\n",
      "7 % 2 = 1\n"
     ]
    }
   ],
   "source": [
    "a = 3\n",
    "a += 5 #var a operating on itself\n",
    "print(f\"{a = }\")\n",
    "b = 9 % 3 #modulo\n",
    "c = 9 % 2\n",
    "print(f\"{9 % 3 = }\")\n",
    "print(f\"9 % 3 = {b}\") #equivalent to above\n",
    "print(f\"{7 % 2 = }\")"
   ]
  },
  {
   "cell_type": "markdown",
   "metadata": {},
   "source": [
    "Conditionals"
   ]
  },
  {
   "cell_type": "code",
   "execution_count": 2,
   "metadata": {},
   "outputs": [
    {
     "name": "stdout",
     "output_type": "stream",
     "text": [
      "\n",
      "s = 8\n",
      "s > 7 & s < 20 = True\n",
      "7 < s < 20 = True\n",
      "not s != 8 = True\n",
      "s < 20 or s > 40 = True\n",
      "volleyball & (football | tennis) =  True\n"
     ]
    }
   ],
   "source": [
    "s = 8\n",
    "print(f\"\\n{s = }\")\n",
    "print(f\"{s > 7 & s < 20 = }\")\n",
    "print(f\"{7 < s < 20 = }\")\n",
    "print(f\"{not s != 8 = }\") #double not condition\n",
    "print(f\"{s < 20 or s > 40 = }\") # \"or\" can also be \"|\"\n",
    "volleyball = True\n",
    "football = True\n",
    "tennis = False\n",
    "print(f\"{volleyball & (football | tennis) =  }\")"
   ]
  },
  {
   "cell_type": "markdown",
   "metadata": {},
   "source": [
    "Data Types"
   ]
  },
  {
   "cell_type": "code",
   "execution_count": 16,
   "metadata": {},
   "outputs": [
    {
     "name": "stdout",
     "output_type": "stream",
     "text": [
      "\n",
      "100_000_000 is: <class 'int'>\n",
      "int(\"300\"): <class 'int'>\n",
      "str(400): <class 'str'>\n",
      "float(\"439.234\"): <class 'float'>\n"
     ]
    },
    {
     "data": {
      "text/plain": [
       "'4'"
      ]
     },
     "execution_count": 16,
     "metadata": {},
     "output_type": "execute_result"
    }
   ],
   "source": [
    "d = 100_000_000\n",
    "print(f\"\\n100_000_000 is: {type(d)}\")\n",
    "num1 = int(\"300\")\n",
    "print(\"int(\\\"300\\\"):\", type(num1))\n",
    "str_conv = str(400)\n",
    "print(f\"str(400): {type(str_conv)}\")\n",
    "num2 = float(\"439.234\")\n",
    "print(f\"float(\\\"439.234\\\"): {type(num2)}\")\n",
    "str_conv[0]"
   ]
  },
  {
   "cell_type": "markdown",
   "metadata": {},
   "source": [
    "Booleans"
   ]
  },
  {
   "cell_type": "code",
   "execution_count": 17,
   "metadata": {},
   "outputs": [
    {
     "name": "stdout",
     "output_type": "stream",
     "text": [
      "<class 'bool'>\n",
      "<class 'bool'>\n",
      "True\n",
      "False\n"
     ]
    }
   ],
   "source": [
    "a = True; print(type(a))\n",
    "b = False; print(type(b))\n",
    "print(1==True)\n",
    "print(1 == False)"
   ]
  }
 ],
 "metadata": {
  "kernelspec": {
   "display_name": "Python 3",
   "language": "python",
   "name": "python3"
  },
  "language_info": {
   "codemirror_mode": {
    "name": "ipython",
    "version": 3
   },
   "file_extension": ".py",
   "mimetype": "text/x-python",
   "name": "python",
   "nbconvert_exporter": "python",
   "pygments_lexer": "ipython3",
   "version": "3.11.5"
  },
  "orig_nbformat": 4
 },
 "nbformat": 4,
 "nbformat_minor": 2
}
