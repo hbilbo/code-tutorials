{
 "cells": [
  {
   "cell_type": "markdown",
   "metadata": {},
   "source": [
    "#### No-Op Function"
   ]
  },
  {
   "cell_type": "code",
   "execution_count": 46,
   "metadata": {},
   "outputs": [],
   "source": [
    "def null():\n",
    "    pass"
   ]
  },
  {
   "cell_type": "code",
   "execution_count": 47,
   "metadata": {},
   "outputs": [
    {
     "name": "stdout",
     "output_type": "stream",
     "text": [
      "Bill and Jimmy meet at the coffee shop with Steven\n"
     ]
    }
   ],
   "source": [
    "sentence = \"George and Jerry meet at the coffee shop with Kramer\"\n",
    "words = ['Bill','Jimmy','Steven']\n",
    "def replace_word(s,names):\n",
    "    s = s.replace(\"George\",names[0])\n",
    "    s = s.replace(\"Jerry\",names[1])\n",
    "    s = s.replace(\"Kramer\",names[2])\n",
    "    return s\n",
    "output = replace_word(sentence,words)\n",
    "print(output)"
   ]
  },
  {
   "cell_type": "markdown",
   "metadata": {},
   "source": [
    "#### Default input value"
   ]
  },
  {
   "cell_type": "code",
   "execution_count": 48,
   "metadata": {},
   "outputs": [
    {
     "name": "stdout",
     "output_type": "stream",
     "text": [
      "20\n",
      "22\n"
     ]
    },
    {
     "data": {
      "text/plain": [
       "22"
      ]
     },
     "execution_count": 48,
     "metadata": {},
     "output_type": "execute_result"
    }
   ],
   "source": [
    "def line(x, a=1, b=0):\n",
    "    f = x*a+b\n",
    "    print(f)\n",
    "    return f\n",
    "line(4, 5)\n",
    "line(4, b=2, a=5)"
   ]
  },
  {
   "cell_type": "markdown",
   "metadata": {},
   "source": [
    "Use docstrings to describe function"
   ]
  },
  {
   "cell_type": "code",
   "execution_count": 49,
   "metadata": {},
   "outputs": [
    {
     "name": "stdout",
     "output_type": "stream",
     "text": [
      "TAAGTGATCAAAAATAGCCCCGAAGTAAGT\n",
      "UAAGUGAUCAAAAAUAGCCCCGAAGUAAGU\n",
      "Help on function dna in module __main__:\n",
      "\n",
      "dna(length=20)\n",
      "    Creates a strand of DNA\n",
      "    \n",
      "    Arguments\n",
      "     - Length: int\n",
      "    \n",
      "    Returns: str\n",
      "\n"
     ]
    }
   ],
   "source": [
    "import random\n",
    "def dna(length=20):\n",
    "    \"\"\"\n",
    "    Creates a strand of DNA\n",
    "\n",
    "    Arguments\n",
    "     - Length: int\n",
    "\n",
    "    Returns: str\n",
    "    \"\"\"\n",
    "    return \"\".join(random.choices(\"ATGC\",k=length))\n",
    "DNA = dna(30); print(DNA)\n",
    "def rna(dna):\n",
    "    return dna.replace(\"T\",\"U\")\n",
    "RNA = rna(DNA); print(RNA)\n",
    "help(dna)"
   ]
  },
  {
   "cell_type": "markdown",
   "metadata": {},
   "source": [
    "<dev class=\"alert alert-block alert-warning\">\n",
    "Do not use mutable data types as default function values.\n",
    "</dev>"
   ]
  },
  {
   "cell_type": "markdown",
   "metadata": {},
   "source": [
    "```\n",
    "# Do not do this!\n",
    "def myappend(x, lyst=[]):\n",
    "    lyst.append(x)\n",
    "    return lyst\n",
    "```"
   ]
  },
  {
   "cell_type": "markdown",
   "metadata": {},
   "source": [
    "If a mutable data type is needed as a function default value, set it in the function body instead."
   ]
  },
  {
   "cell_type": "code",
   "execution_count": 50,
   "metadata": {},
   "outputs": [
    {
     "name": "stdout",
     "output_type": "stream",
     "text": [
      "[6]\n",
      "[42]\n",
      "[1, 6, 12]\n",
      "[65]\n"
     ]
    },
    {
     "data": {
      "text/plain": [
       "[65]"
      ]
     },
     "execution_count": 50,
     "metadata": {},
     "output_type": "execute_result"
    }
   ],
   "source": [
    "def myappend(x, lyst=None):\n",
    "    if lyst is None:\n",
    "        lyst = []\n",
    "    lyst.append(x)\n",
    "    print(lyst)\n",
    "    return lyst\n",
    "myappend(6)\n",
    "myappend(42)\n",
    "myappend(12, [1, 6])\n",
    "myappend(65)"
   ]
  },
  {
   "cell_type": "markdown",
   "metadata": {},
   "source": [
    "#### Lambda function"
   ]
  },
  {
   "cell_type": "markdown",
   "metadata": {},
   "source": [
    "Unlike normal functions, lambdas are expressions rather than statements. This allows them to be defined on the righthand side of an equals sign,\n",
    "inside of a literal list or dictionary, in a function call or definition, or in any other place that a Python expression may exist."
   ]
  },
  {
   "cell_type": "markdown",
   "metadata": {},
   "source": [
    "- Single line fuction which can be stored as an object"
   ]
  },
  {
   "cell_type": "code",
   "execution_count": 51,
   "metadata": {},
   "outputs": [
    {
     "name": "stdout",
     "output_type": "stream",
     "text": [
      "['1.mp3', '3.mp3', '4.mp3']\n"
     ]
    }
   ],
   "source": [
    "songs = [\"1.mp3\",\"2.flac\",\"3.mp3\",\"4.mp3\"]\n",
    "\n",
    "filter_mask = lambda song: song.endswith(\".mp3\")\n",
    "\n",
    "#Filter method - can filter out a specific file type\n",
    "filt_songs = list(filter(filter_mask,songs))\n",
    "print(filt_songs)"
   ]
  },
  {
   "cell_type": "markdown",
   "metadata": {},
   "source": [
    "* This function is equavalent to the lambda function\n",
    "```\n",
    "def filter_mask_func(s):\n",
    "    return s.endswith(\".mp3\")\n",
    "```"
   ]
  },
  {
   "cell_type": "code",
   "execution_count": 52,
   "metadata": {},
   "outputs": [
    {
     "name": "stdout",
     "output_type": "stream",
     "text": [
      "<function <lambda> at 0x000002E612F825C0>\n",
      "94\n",
      "[0, 1, 4, 9, 16, 25, 36, 49, 64, 81]\n",
      "{'null': <function <lambda> at 0x000002E612F82840>}\n",
      "3.0\n",
      "66311220\n"
     ]
    }
   ],
   "source": [
    "# a simple lambda\n",
    "print(lambda x: x**2)\n",
    "\n",
    "# a lambda that is called after it is defined\n",
    "print((lambda x, y=10: 2*x + y)(42))\n",
    "\n",
    "# just because it is anonymous doesn't mean we can't give it a name!\n",
    "f_sq = lambda: [x**2 for x in range(10)]\n",
    "print(f_sq())\n",
    "\n",
    "# a lambda as a dict value\n",
    "d = {'null': lambda *args, **kwargs: None}\n",
    "print(d)\n",
    "\n",
    "# a lambda as a keyword argument exp in another function\n",
    "def func(vals, exp=lambda x: sum(x)/len(x)):\n",
    "    return exp(vals)\n",
    "print(func(range(7)))\n",
    "\n",
    "# a lambda as a keyword argument in a function call\n",
    "cust_lambd = func([6, 28, 496, 8128], lambda data: sum([x**2 for x in data]))\n",
    "print(cust_lambd)"
   ]
  },
  {
   "cell_type": "markdown",
   "metadata": {},
   "source": [
    "Sorting values using sorted() method. Can use *key function* as input to sorted() function"
   ]
  },
  {
   "cell_type": "code",
   "execution_count": 53,
   "metadata": {},
   "outputs": [
    {
     "name": "stdout",
     "output_type": "stream",
     "text": [
      "Modulo of nums: [3, 6, 2, 2]\n",
      "[6, 28, 496, 8128]\n",
      "[496, 28, 8128, 6]\n"
     ]
    }
   ],
   "source": [
    "nums = [8128, 6, 496, 28]\n",
    "print(\"Modulo of nums:\",list(map(lambda x: x%13,nums)))\n",
    "print(sorted(nums))\n",
    "print(sorted(nums, key=lambda x: x%13))"
   ]
  },
  {
   "cell_type": "markdown",
   "metadata": {},
   "source": [
    "#### Map method"
   ]
  },
  {
   "cell_type": "markdown",
   "metadata": {},
   "source": [
    "Rename a song with different file extension"
   ]
  },
  {
   "cell_type": "code",
   "execution_count": 54,
   "metadata": {},
   "outputs": [
    {
     "name": "stdout",
     "output_type": "stream",
     "text": [
      "my_song_1.flac\n",
      "['my_song_1.flac', 'my_song_2.flac', 'my_song_3.flac', 'my_song_4.flac']\n"
     ]
    }
   ],
   "source": [
    "song = \"1.mp3\"\n",
    "song_rn = lambda x: f\"my_song_{x.split('.')[0]}.flac\"\n",
    "print(song_rn(song))\n",
    "#can use map to apply this renaming to a list of variables similar to filter\n",
    "new_songs = list(map(song_rn,songs))\n",
    "print(new_songs)"
   ]
  },
  {
   "cell_type": "markdown",
   "metadata": {},
   "source": [
    "#### Reduce method"
   ]
  },
  {
   "cell_type": "code",
   "execution_count": 55,
   "metadata": {},
   "outputs": [
    {
     "name": "stdout",
     "output_type": "stream",
     "text": [
      "125250\n",
      "125250\n"
     ]
    }
   ],
   "source": [
    "from functools import reduce\n",
    "numbers = range(1,500+1)\n",
    "numbers_sum = reduce(lambda result,value: result + value,numbers)\n",
    "print(numbers_sum)\n",
    "#can use \"sum\" method to do the same thing\n",
    "print(sum(numbers))"
   ]
  },
  {
   "cell_type": "markdown",
   "metadata": {},
   "source": [
    "### *args and **kwargs\n",
    "- supports having a variable # of arguments and keyword argumenents\n",
    "- extra arguments are packed in a tuple, keyword args are packed into a dictionary"
   ]
  },
  {
   "cell_type": "code",
   "execution_count": 56,
   "metadata": {},
   "outputs": [
    {
     "name": "stdout",
     "output_type": "stream",
     "text": [
      "1\n",
      "(2, 3, 'a', 'd')\n",
      "{'var1': 'h', 'var2': 8}\n"
     ]
    }
   ],
   "source": [
    "def test(my_arg,*args,**kwargs):\n",
    "    print(my_arg)\n",
    "    print(args)\n",
    "    print(kwargs)\n",
    "\n",
    "test(1, 2, 3, \"a\", \"d\", var1=\"h\", var2=8)"
   ]
  },
  {
   "cell_type": "markdown",
   "metadata": {},
   "source": [
    "Unpack an existing sequence into a function using * and ** before the variables."
   ]
  },
  {
   "cell_type": "code",
   "execution_count": 57,
   "metadata": {},
   "outputs": [
    {
     "name": "stdout",
     "output_type": "stream",
     "text": [
      "6\n",
      "3\n"
     ]
    }
   ],
   "source": [
    "def minimum(*args):\n",
    "    \"\"\"Takes any number of arguments!\"\"\"\n",
    "    m = args[0]\n",
    "    for x in args[1:]:\n",
    "        if x < m:\n",
    "            m = x\n",
    "    return m\n",
    "print(minimum(6,32))\n",
    "data = [3,19,12]\n",
    "print(minimum(*data))"
   ]
  },
  {
   "cell_type": "markdown",
   "metadata": {},
   "source": [
    "### Multiple Return Values"
   ]
  },
  {
   "cell_type": "code",
   "execution_count": 58,
   "metadata": {},
   "outputs": [
    {
     "name": "stdout",
     "output_type": "stream",
     "text": [
      "(2730.0, 88725.0)\n",
      "2730.0 88725.0\n"
     ]
    }
   ],
   "source": [
    "def momentum_energy(m, v):\n",
    "    p = m * v\n",
    "    e = 0.5 * m * v**2\n",
    "    return p, e\n",
    "pe = momentum_energy(42.0,65.0) #returns a tuple\n",
    "mom, energy = momentum_energy(42.0,65.0) #unpacks the result\n",
    "print(pe)\n",
    "print(mom, energy)"
   ]
  },
  {
   "cell_type": "markdown",
   "metadata": {},
   "source": [
    "### Function Scope"
   ]
  },
  {
   "cell_type": "code",
   "execution_count": 59,
   "metadata": {},
   "outputs": [
    {
     "name": "stdout",
     "output_type": "stream",
     "text": [
      "232\n"
     ]
    }
   ],
   "source": [
    "# global scope\n",
    "a = 6\n",
    "b = 42\n",
    "def func(x, y):\n",
    "    # local scope\n",
    "    z = 16\n",
    "    return a*x + b*y + z\n",
    "# global scope\n",
    "c = func(1, 5)\n",
    "print(c)"
   ]
  },
  {
   "cell_type": "code",
   "execution_count": 60,
   "metadata": {},
   "outputs": [
    {
     "name": "stdout",
     "output_type": "stream",
     "text": [
      "6\n",
      "42\n",
      "6\n"
     ]
    }
   ],
   "source": [
    "a = 6\n",
    "def a_global():\n",
    "    print(a)\n",
    "def a_local():\n",
    "    a = 42\n",
    "    print(a)\n",
    "a_global()\n",
    "a_local()\n",
    "print(a)"
   ]
  },
  {
   "cell_type": "markdown",
   "metadata": {},
   "source": [
    "### Global Variables"
   ]
  },
  {
   "cell_type": "code",
   "execution_count": 61,
   "metadata": {},
   "outputs": [
    {
     "name": "stdout",
     "output_type": "stream",
     "text": [
      "Big A\n",
      "small a\n",
      "global a\n"
     ]
    }
   ],
   "source": [
    "a = \"A\"\n",
    "def func():\n",
    "    global a\n",
    "    print(\"Big \" + a)\n",
    "    a = \"a\"\n",
    "    print(\"small \" + a)\n",
    "func()\n",
    "print(\"global \" + a)"
   ]
  },
  {
   "cell_type": "markdown",
   "metadata": {},
   "source": [
    "### Recursion\n",
    "Allows calling a function from within a funciton. This requires a \"fixed point\" so that the loop doesn't keep running forever."
   ]
  },
  {
   "cell_type": "markdown",
   "metadata": {},
   "source": [
    "Get and set recursion limit (default is 1000)"
   ]
  },
  {
   "cell_type": "code",
   "execution_count": 62,
   "metadata": {},
   "outputs": [
    {
     "name": "stdout",
     "output_type": "stream",
     "text": [
      "1200\n",
      "None\n"
     ]
    }
   ],
   "source": [
    "import sys\n",
    "print(sys.getrecursionlimit())\n",
    "print(sys.setrecursionlimit(1200))"
   ]
  },
  {
   "cell_type": "code",
   "execution_count": 63,
   "metadata": {},
   "outputs": [],
   "source": [
    "def fib(n):\n",
    "    if n == 0 or n == 1:\n",
    "        return n\n",
    "    else:\n",
    "        return fib(n - 1) + fib(n - 2)"
   ]
  },
  {
   "cell_type": "markdown",
   "metadata": {},
   "source": [
    "### Generators\n",
    "A special type of function that uses the yield keyword in the function body to return a value and defer execution until further notice.\n",
    "- Use next() to obtain successive values of yield statements"
   ]
  },
  {
   "cell_type": "code",
   "execution_count": 64,
   "metadata": {},
   "outputs": [
    {
     "name": "stdout",
     "output_type": "stream",
     "text": [
      "3\n",
      "2\n",
      "1\n",
      "Blast off!\n"
     ]
    }
   ],
   "source": [
    "def countdown():\n",
    "    yield 3\n",
    "    yield 2\n",
    "    yield 1\n",
    "    yield 'Blast off!'\n",
    "g = countdown()\n",
    "print(next(g))\n",
    "x = next(g)\n",
    "print(x)\n",
    "y, z = next(g), next(g)\n",
    "print(y)\n",
    "print(z)"
   ]
  },
  {
   "cell_type": "markdown",
   "metadata": {},
   "source": [
    "Can leverage the use of for loops to iterate through a generator function"
   ]
  },
  {
   "cell_type": "code",
   "execution_count": 65,
   "metadata": {},
   "outputs": [
    {
     "name": "stdout",
     "output_type": "stream",
     "text": [
      "T-3\n",
      "T-2\n",
      "T-1\n",
      "Blast off!\n"
     ]
    }
   ],
   "source": [
    "for t in countdown():\n",
    "    if isinstance(t, int):\n",
    "        message = \"T-\" + str(t)\n",
    "    else:\n",
    "        message = t\n",
    "    print(message)"
   ]
  },
  {
   "cell_type": "markdown",
   "metadata": {},
   "source": [
    "Find the square plus one of all numbers from one to n"
   ]
  },
  {
   "cell_type": "code",
   "execution_count": 66,
   "metadata": {},
   "outputs": [
    {
     "name": "stdout",
     "output_type": "stream",
     "text": [
      "1\n",
      "2\n",
      "5\n"
     ]
    }
   ],
   "source": [
    "def square_plus_one(n):\n",
    "    for x in range(n):\n",
    "        x2 = x*x\n",
    "        yield x2 + 1\n",
    "\n",
    "for sp1 in square_plus_one(3):\n",
    "    print(sp1)"
   ]
  },
  {
   "cell_type": "markdown",
   "metadata": {},
   "source": [
    "Note that in Python v3.3 and later, generators were extended with the yield from\n",
    "semantics. This allows a generator to delegate to subgenerators. This makes yield\n",
    "from statements shorthand for using multiple generators in a row. As a relatively simple\n",
    "example of yield from usage, we can create a palindrome by yielding each element\n",
    "of a sequence in its forward direction and then yielding each element in the\n",
    "backward direction. A use case for this kind of functionality would be a symmetric\n",
    "matrix where only half of the elements are stored, but you want to iterate through all\n",
    "elements as if they actually existed. The palindrome generator may be written as\n",
    "follows:"
   ]
  },
  {
   "cell_type": "code",
   "execution_count": 67,
   "metadata": {},
   "outputs": [],
   "source": [
    "# define a subgenerator\n",
    "def yield_all(x):\n",
    "    for i in x:\n",
    "        yield i\n",
    "\n",
    "# palindrome using yield froms\n",
    "def palindromize(x):\n",
    "    yield from yield_all(x)\n",
    "    yield from yield_all(x[::-1])\n",
    "\n",
    "# the above is equivalent to this full expansion:\n",
    "def palindromize_explicit(x):\n",
    "    for i in x:\n",
    "        yield i\n",
    "    for i in x[::-1]:\n",
    "        yield i"
   ]
  },
  {
   "cell_type": "markdown",
   "metadata": {},
   "source": [
    "### Decorators\n",
    "A special flavor of function that takes only one argument, which is itself\n",
    "another function. Decorators may return any value but are most useful when they\n",
    "return a function. Defining a decorator uses no special syntax other than the single argument\n",
    "restriction. Decorators are useful for modifying the behavior of other functions\n",
    "without actually changing the source code of the other functions.\n",
    "\n",
    "Simples examples: "
   ]
  },
  {
   "cell_type": "code",
   "execution_count": 68,
   "metadata": {},
   "outputs": [],
   "source": [
    "def null(f):\n",
    "    \"\"\"Always return None.\"\"\"\n",
    "    return\n",
    "def identity(f):\n",
    "    \"\"\"Return the function.\"\"\"\n",
    "    return f\n",
    "def self_referential(f):\n",
    "    \"\"\"Return the decorator.\"\"\"\n",
    "    return self_referential"
   ]
  },
  {
   "cell_type": "markdown",
   "metadata": {},
   "source": [
    "- Python uses the at sign (@) as a special syntax for applying a decorator to a function\n",
    "definition.\n",
    "- On the line above the function definition, you place an @ followed by the\n",
    "decorator name."
   ]
  },
  {
   "cell_type": "code",
   "execution_count": 69,
   "metadata": {},
   "outputs": [],
   "source": [
    "#Comment out below line to see effect of decorator\n",
    "@null\n",
    "def nargs(*args, **kwargs):\n",
    "    return len(args) + len(kwargs)\n",
    "\n",
    "# nargs(3,4,[5,6],b=9,h=\"hello\")"
   ]
  },
  {
   "cell_type": "markdown",
   "metadata": {},
   "source": [
    "The above line is equivalent to the following:\n",
    "```\n",
    "def nargs(*args, **kwargs):\n",
    "    return len(args) + len(kwargs)\n",
    "nargs = null(nargs)\n",
    "```"
   ]
  },
  {
   "cell_type": "markdown",
   "metadata": {},
   "source": [
    "- To modify or return arguments in a decorator funciton, the decorator must create its own wrapper function and then return the wrapper\n",
    "- To ensure the decorator is useful in as many places as possible, use *args and **kwargs as arguments to the wrapper function"
   ]
  },
  {
   "cell_type": "code",
   "execution_count": 70,
   "metadata": {},
   "outputs": [
    {
     "data": {
      "text/plain": [
       "244"
      ]
     },
     "execution_count": 70,
     "metadata": {},
     "output_type": "execute_result"
    }
   ],
   "source": [
    "def plus1(f):\n",
    "    def wrapper(*args, **kwargs):\n",
    "        return f(*args, **kwargs) + 1\n",
    "    return wrapper\n",
    "\n",
    "@plus1\n",
    "def power(base, x):\n",
    "    return base**x\n",
    "\n",
    "power(3,5)"
   ]
  },
  {
   "cell_type": "markdown",
   "metadata": {},
   "source": [
    "You can chain decorators together by stacking them on top of each other. To chaining to work, it assumes that each decorator returns a wrapper function of its own."
   ]
  },
  {
   "cell_type": "code",
   "execution_count": 73,
   "metadata": {},
   "outputs": [
    {
     "data": {
      "text/plain": [
       "5.645751311064591"
      ]
     },
     "execution_count": 73,
     "metadata": {},
     "output_type": "execute_result"
    }
   ],
   "source": [
    "@plus1\n",
    "@identity\n",
    "@plus1\n",
    "@plus1\n",
    "def root(x):\n",
    "    return x**0.5\n",
    "\n",
    "root(7)"
   ]
  },
  {
   "cell_type": "markdown",
   "metadata": {},
   "source": [
    "#### Decorator factories\n",
    "The plus1 decorator above was hardcoded to add 1 every time. To parametrize this function, you can nest the decorator inside another function. When the outermost function is called, it should return the decorator. The decorator in turn returns the wrapper function. Decorator factories may accept as many arguments and keyword arguments as you wish. The only real restriction on decorator factories is that they actually return a decorator."
   ]
  },
  {
   "cell_type": "code",
   "execution_count": 74,
   "metadata": {},
   "outputs": [
    {
     "data": {
      "text/plain": [
       "8.0"
      ]
     },
     "execution_count": 74,
     "metadata": {},
     "output_type": "execute_result"
    }
   ],
   "source": [
    "def plus_n(n):\n",
    "    def dec(f):\n",
    "        def wrapper(*args, **kwargs):\n",
    "            return f(*args, **kwargs) + n\n",
    "        return wrapper\n",
    "    return dec\n",
    "\n",
    "@plus_n(6)\n",
    "def root(x):\n",
    "    return x**0.5\n",
    "\n",
    "root(4.0)"
   ]
  },
  {
   "cell_type": "markdown",
   "metadata": {},
   "source": [
    "You can also use decorators to modify other people’s functions without them even\n",
    "knowing. In this case, you cannot use the @ symbol syntax because the function has\n",
    "already been defined; instead, you need to call the decorator like it was a normal\n",
    "function. For example, if we wanted to always add one to the return value of Python’s\n",
    "built-in max() function, we could use our plus1() decorator manually as follows:"
   ]
  },
  {
   "cell_type": "code",
   "execution_count": 75,
   "metadata": {},
   "outputs": [
    {
     "data": {
      "text/plain": [
       "33"
      ]
     },
     "execution_count": 75,
     "metadata": {},
     "output_type": "execute_result"
    }
   ],
   "source": [
    "max = plus1(max)\n",
    "\n",
    "max([32,8]) #returns max(arg)+1"
   ]
  },
  {
   "cell_type": "markdown",
   "metadata": {},
   "source": [
    "#### EXAMPLE"
   ]
  },
  {
   "cell_type": "markdown",
   "metadata": {},
   "source": [
    "Challenge - reverse DNA strand and make these substitutions:  \n",
    "A->T,C->G,G->C,T->A"
   ]
  },
  {
   "cell_type": "code",
   "execution_count": 72,
   "metadata": {},
   "outputs": [
    {
     "name": "stdout",
     "output_type": "stream",
     "text": [
      "TAGCCGTGCA\n",
      "Method 1: TGCACGGCTA\n",
      "Method 2: TGCACGGCTA\n",
      "complimentary pair:\n",
      "  [('T', 'T'), ('A', 'G'), ('G', 'C'), ('C', 'A'), ('C', 'C'), ('G', 'G'), ('T', 'G'), ('G', 'C'), ('C', 'T'), ('A', 'A')]\n"
     ]
    }
   ],
   "source": [
    "chal_dna = dna(10)\n",
    "print(chal_dna)\n",
    "# Method 1 of reversing string\n",
    "# rev_dna = \"\".join(list(reversed(chal_dna)))\n",
    "# Method 2 of reversing string\n",
    "rev_dna = chal_dna[::-1]\n",
    "new_dna = rev_dna.replace('A','t').replace('C','g').replace('G','c').replace('T','a').upper()\n",
    "print(\"Method 1:\", new_dna)\n",
    "\n",
    "#Alternative method\n",
    "def make_trans(strand):\n",
    "    translation_table = \"\".maketrans(\"ACGT\",\"TGCA\")\n",
    "    strand = strand.translate(translation_table)\n",
    "    strand = strand[::-1]\n",
    "    return strand\n",
    "new_dna2 = make_trans(chal_dna)\n",
    "print(\"Method 2:\", new_dna2)\n",
    "print(\"complimentary pair:\\n \",list(zip(chal_dna,new_dna2)))"
   ]
  }
 ],
 "metadata": {
  "kernelspec": {
   "display_name": "Python 3",
   "language": "python",
   "name": "python3"
  },
  "language_info": {
   "codemirror_mode": {
    "name": "ipython",
    "version": 3
   },
   "file_extension": ".py",
   "mimetype": "text/x-python",
   "name": "python",
   "nbconvert_exporter": "python",
   "pygments_lexer": "ipython3",
   "version": "3.11.5"
  },
  "orig_nbformat": 4
 },
 "nbformat": 4,
 "nbformat_minor": 2
}
