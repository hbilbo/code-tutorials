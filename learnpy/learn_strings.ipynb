{
 "cells": [
  {
   "cell_type": "markdown",
   "metadata": {},
   "source": [
    "Strings"
   ]
  },
  {
   "cell_type": "code",
   "execution_count": 106,
   "metadata": {},
   "outputs": [
    {
     "name": "stdout",
     "output_type": "stream",
     "text": [
      "This is a Sentence <class 'str'>\n",
      "THIS IS A SENTENCE\n",
      "class: <class 'str'>\n",
      "class: <class 'str'>\n",
      "This is a multiline string.\n",
      "Each new line is a new line in the string.\n",
      "This can be useful for documentation\n",
      "They're going to the park\n",
      "Use escape '\\' \n",
      "\t this is tabbed on new line\n",
      " AAAAige return\n"
     ]
    }
   ],
   "source": [
    "str1 = \"This is a Sentence\"\n",
    "print(str1, type(str1))\n",
    "print(str1.upper())\n",
    "tp = type(str1)\n",
    "#f string\n",
    "print(f\"class: {tp}\")\n",
    "print(\"class:\",tp) #equivalent\n",
    "str_multi = \"\"\"This is a multiline string.\n",
    "Each new line is a new line in the string.\n",
    "This can be useful for documentation\"\"\"\n",
    "print(str_multi)\n",
    "#mix double and single strings to avoid using escape (\\) character\n",
    "str_comb = \"They're going to the park\"\n",
    "print(str_comb)\n",
    "#string escape characters\n",
    "str_esc = \"Use escape '\\\\' \\n\\t this is tabbed on new line\\ncarraige return\\r AAAA\"\n",
    "print(str_esc)"
   ]
  },
  {
   "cell_type": "markdown",
   "metadata": {},
   "source": [
    "String Prefixes"
   ]
  },
  {
   "cell_type": "code",
   "execution_count": 107,
   "metadata": {},
   "outputs": [
    {
     "name": "stdout",
     "output_type": "stream",
     "text": [
      "escape!\\n <class 'str'>\n",
      "b'this bytes' <class 'bytes'>\n",
      "René Descartes <class 'str'>\n"
     ]
    }
   ],
   "source": [
    "# Raw string\n",
    "str_raw = r\"escape!\\n\" #\\n are included in string\n",
    "print(str_raw, type(str_raw))\n",
    "# Byte string\n",
    "str_byte = b\"this bytes\"\n",
    "print(str_byte, type(str_byte))\n",
    "# Unicode string (default in Python 3)\n",
    "str_uni = u\"René Descartes\"\n",
    "print(str_uni, type(str_uni))"
   ]
  },
  {
   "cell_type": "markdown",
   "metadata": {},
   "source": [
    "Some String Methods"
   ]
  },
  {
   "cell_type": "code",
   "execution_count": 165,
   "metadata": {},
   "outputs": [
    {
     "name": "stdout",
     "output_type": "stream",
     "text": [
      "['__add__', '__class__', '__contains__', '__delattr__', '__dir__', '__doc__', '__eq__', '__format__', '__ge__', '__getattribute__', '__getitem__', '__getnewargs__', '__getstate__', '__gt__', '__hash__', '__init__', '__init_subclass__', '__iter__', '__le__', '__len__', '__lt__', '__mod__', '__mul__', '__ne__', '__new__', '__reduce__', '__reduce_ex__', '__repr__', '__rmod__', '__rmul__', '__setattr__', '__sizeof__', '__str__', '__subclasshook__', 'capitalize', 'casefold', 'center', 'count', 'encode', 'endswith', 'expandtabs', 'find', 'format', 'format_map', 'index', 'isalnum', 'isalpha', 'isascii', 'isdecimal', 'isdigit', 'isidentifier', 'islower', 'isnumeric', 'isprintable', 'isspace', 'istitle', 'isupper', 'join', 'ljust', 'lower', 'lstrip', 'maketrans', 'partition', 'removeprefix', 'removesuffix', 'replace', 'rfind', 'rindex', 'rjust', 'rpartition', 'rsplit', 'rstrip', 'split', 'splitlines', 'startswith', 'strip', 'swapcase', 'title', 'translate', 'upper', 'zfill']\n",
      "1\n",
      "False\n",
      "True\n",
      "I've got to get a new phone, mine keeps dying!\n",
      "I've got to get a new phone mine keeps dying!\n",
      "ive got to get a new phone mine keeps dying\n",
      "\t temperature pressure\t value \n",
      "temperature pressure\t value\n",
      "True False\n",
      "Hilbert gets into work & then his commute begins!\n"
     ]
    }
   ],
   "source": [
    "print(dir(str1))\n",
    "c = str1.count(\"This\"); print(c)\n",
    "c1 = \"hi\" in \"hello\"; print(c1)\n",
    "c2 = \"rat\" in \"scratch\"; print(c2)\n",
    "\n",
    "str2 = \"I've got to get a new phone, mine keeps dying!\"\n",
    "print(str2)\n",
    "# One inelegant method of removing the comma\n",
    "str3 = ''.join(str2.split(\",\"))\n",
    "print(str3)\n",
    "# Better method of removing and replacing items\n",
    "str4 = str2.lower().replace(\",\",\"\").replace(\"'\",\"\").replace(\"!\",\"\")\n",
    "print(str4)\n",
    "\n",
    "header = \"\\t temperature pressure\\t value \\n\"\n",
    "header_new = header.strip()\n",
    "print(header,f\"\\r{header_new}\")\n",
    "\n",
    "print(\"10\".isdigit(), \"10.10\".isdigit())\n",
    "\n",
    "#String Formatting\n",
    "print(\"{1} gets into work & then his {0} begins!\".format(\"commute\", \"Hilbert\"))"
   ]
  },
  {
   "cell_type": "markdown",
   "metadata": {},
   "source": [
    "Example 1"
   ]
  },
  {
   "cell_type": "code",
   "execution_count": 166,
   "metadata": {},
   "outputs": [
    {
     "name": "stdout",
     "output_type": "stream",
     "text": [
      "['this', 'is', 'my string']\n"
     ]
    }
   ],
   "source": [
    "s = \"this is my string\"\n",
    "s_sp = s.split(maxsplit=2)\n",
    "print(s_sp)"
   ]
  },
  {
   "cell_type": "markdown",
   "metadata": {},
   "source": [
    "Example 2 - Convert string array to formatted list of lists"
   ]
  },
  {
   "cell_type": "code",
   "execution_count": 167,
   "metadata": {},
   "outputs": [
    {
     "name": "stdout",
     "output_type": "stream",
     "text": [
      "Name,Phone,Address\n",
      "Mike Smith,15554218841,123 Nice St, Roy, NM, USA\n",
      "Anita Hernandez,15557789941,425 Sunny St, New York, NY, USA\n",
      "Guido van Rossum,315558730,Science Park 123, 1098 XG Amsterdam, NL\n",
      "[['Mike Smith', '15554218841', '123 Nice St, Roy, NM, USA'], ['Anita Hernandez', '15557789941', '425 Sunny St, New York, NY, USA'], ['Guido van Rossum', '315558730', 'Science Park 123, 1098 XG Amsterdam, NL']]\n",
      "[['Mike Smith', '15554218841', '123 Nice St, Roy, NM, USA'], ['Anita Hernandez', '15557789941', '425 Sunny St, New York, NY, USA'], ['Guido van Rossum', '315558730', 'Science Park 123, 1098 XG Amsterdam, NL']]\n"
     ]
    }
   ],
   "source": [
    "##These use topics from learn_collections,learn_num,learn_loops\n",
    "input_data = \"\"\"Name,Phone,Address\n",
    "Mike Smith,15554218841,123 Nice St, Roy, NM, USA\n",
    "Anita Hernandez,15557789941,425 Sunny St, New York, NY, USA\n",
    "Guido van Rossum,315558730,Science Park 123, 1098 XG Amsterdam, NL\"\"\"\n",
    "print(input_data)\n",
    "customers = input_data.split('\\n')[1:] #generates list of separate lines\n",
    "format1 = [inp.split(',',maxsplit=2) for inp in customers]\n",
    "print(format1)\n",
    "#Alternatively\n",
    "results = []\n",
    "for line in input_data.split('\\n')[1:]:\n",
    "    results.append(line.split(',', maxsplit=2))\n",
    "print(results)"
   ]
  },
  {
   "cell_type": "markdown",
   "metadata": {},
   "source": [
    "Example 3 - Convert list of lists to single string"
   ]
  },
  {
   "cell_type": "code",
   "execution_count": 168,
   "metadata": {},
   "outputs": [
    {
     "name": "stdout",
     "output_type": "stream",
     "text": [
      "Boston,MA,76F,65% Precip,0.15 in\n",
      "San Francisco,CA,62F,20% Precip,0.00 in\n",
      "Washington,DC,82F,80% Precip,0.19 in\n",
      "Miami,FL,79F,50% Precip,0.70 in \n",
      "\n",
      "Boston,MA,76F,65% Precip,0.15 in\n",
      "San Francisco,CA,62F,20% Precip,0.00 in\n",
      "Washington,DC,82F,80% Precip,0.19 in\n",
      "Miami,FL,79F,50% Precip,0.70 in\n"
     ]
    }
   ],
   "source": [
    "weather = [\n",
    "    ['Boston', 'MA', '76F', '65% Precip', '0.15 in'],\n",
    "    ['San Francisco', 'CA', '62F', '20% Precip', '0.00 in'],\n",
    "    ['Washington', 'DC', '82F', '80% Precip', '0.19 in'],\n",
    "    ['Miami', 'FL', '79F', '50% Precip', '0.70 in']\n",
    "]\n",
    "weather1 = []\n",
    "for list in weather:\n",
    "    weather1.append(','.join(list))\n",
    "weather1 = '\\n'.join(weather1)\n",
    "print(weather1,'\\n')\n",
    "# Alternatively leveraging list comprehension\n",
    "weather2 = [','.join(row) for row in weather]\n",
    "weather2 = '\\n'.join(weather2)\n",
    "print(weather2)"
   ]
  }
 ],
 "metadata": {
  "kernelspec": {
   "display_name": "Python 3",
   "language": "python",
   "name": "python3"
  },
  "language_info": {
   "codemirror_mode": {
    "name": "ipython",
    "version": 3
   },
   "file_extension": ".py",
   "mimetype": "text/x-python",
   "name": "python",
   "nbconvert_exporter": "python",
   "pygments_lexer": "ipython3",
   "version": "3.11.5"
  },
  "orig_nbformat": 4
 },
 "nbformat": 4,
 "nbformat_minor": 2
}
