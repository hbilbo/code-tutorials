{
 "cells": [
  {
   "cell_type": "markdown",
   "metadata": {},
   "source": [
    "### if, elif, else"
   ]
  },
  {
   "cell_type": "code",
   "execution_count": 30,
   "metadata": {},
   "outputs": [
    {
     "name": "stdout",
     "output_type": "stream",
     "text": [
      "['Jan', 'Feb', 'Mar', 'Apr', 'May', 'Jun', 'Jul', 'Aug', 'Sep', 'Oct', 'Nov', 'Dec']\n",
      "{'Jan': 1, 'Feb': 2, 'Mar': 3, 'Apr': 4, 'May': 5, 'Jun': 6, 'Jul': 7, 'Aug': 8, 'Sep': 9, 'Oct': 10, 'Nov': 11, 'Dec': 12}\n",
      "Off-Season\n"
     ]
    }
   ],
   "source": [
    "month = [\n",
    "    \"Jan\",\"Feb\",\"Mar\",\"Apr\",\"May\",\"Jun\",\n",
    "    \"Jul\",\"Aug\",\"Sep\",\"Oct\",\"Nov\",\"Dec\"\n",
    "]\n",
    "print(month)\n",
    "month = dict(list(zip(month, range(1,12+1)))); print(month)\n",
    "\n",
    "current_month = \"Jun\"\n",
    "month_number = month[current_month]\n",
    "if month_number in [1,2,3,4,5]:\n",
    "    print(\"Basketball Season\")\n",
    "elif 6 <= month_number <= 8:\n",
    "    print(\"Off-Season\")\n",
    "else:\n",
    "    print(\"Football Season\")"
   ]
  },
  {
   "cell_type": "markdown",
   "metadata": {},
   "source": [
    "### Ternary if-else expresion\n",
    "`x if <condition> else y`"
   ]
  },
  {
   "cell_type": "code",
   "execution_count": 31,
   "metadata": {},
   "outputs": [
    {
     "name": "stdout",
     "output_type": "stream",
     "text": [
      "1.05457173e-34\n"
     ]
    }
   ],
   "source": [
    "# h_bar = 1.05457173e-34\n",
    "h_bar = 1\n",
    "#Reset h_bar if it is set to 1.0\n",
    "h_bar = 1.05457173e-34 if h_bar != 1.05457173e-34 else h_bar\n",
    "print(h_bar)"
   ]
  },
  {
   "cell_type": "markdown",
   "metadata": {},
   "source": [
    "### Try - Except"
   ]
  },
  {
   "cell_type": "code",
   "execution_count": 45,
   "metadata": {},
   "outputs": [
    {
     "name": "stdout",
     "output_type": "stream",
     "text": [
      "Trying to divide by zero, please try again\n"
     ]
    }
   ],
   "source": [
    "val = 0.0\n",
    "try:\n",
    "    inv = 1.0/val\n",
    "except ZeroDivisionError: # Catches only a ZeroDivisionError\n",
    "    print(\"Trying to divide by zero, please try again\")\n",
    "except:\n",
    "    print(\"A bad value '{0}' was submitted,  please try again\".format(val))"
   ]
  },
  {
   "cell_type": "markdown",
   "metadata": {},
   "source": [
    "#### Raise Error"
   ]
  },
  {
   "cell_type": "code",
   "execution_count": 47,
   "metadata": {},
   "outputs": [
    {
     "ename": "ZeroDivisionError",
     "evalue": "taking the inverse of zero is forbidden!",
     "output_type": "error",
     "traceback": [
      "\u001b[1;31m---------------------------------------------------------------------------\u001b[0m",
      "\u001b[1;31mZeroDivisionError\u001b[0m                         Traceback (most recent call last)",
      "Cell \u001b[1;32mIn[47], line 2\u001b[0m\n\u001b[0;32m      1\u001b[0m \u001b[39mif\u001b[39;00m val \u001b[39m==\u001b[39m \u001b[39m0.0\u001b[39m:\n\u001b[1;32m----> 2\u001b[0m     \u001b[39mraise\u001b[39;00m \u001b[39mZeroDivisionError\u001b[39;00m(\u001b[39m\"\u001b[39m\u001b[39mtaking the inverse of zero is forbidden!\u001b[39m\u001b[39m\"\u001b[39m)\n\u001b[0;32m      3\u001b[0m inv \u001b[39m=\u001b[39m \u001b[39m1.0\u001b[39m \u001b[39m/\u001b[39m val\n",
      "\u001b[1;31mZeroDivisionError\u001b[0m: taking the inverse of zero is forbidden!"
     ]
    }
   ],
   "source": [
    "if val == 0.0:\n",
    "    raise ZeroDivisionError(\"taking the inverse of zero is forbidden!\")\n",
    "inv = 1.0 / val"
   ]
  },
  {
   "cell_type": "markdown",
   "metadata": {},
   "source": [
    "### Fizzbuzz Challenge\n",
    "If a number is:  \n",
    "    - Divisible by 3, return fizz  \n",
    "    - Divisible by 5, return buzz  \n",
    "    - Divisible by 15, return fizzbuzz  "
   ]
  },
  {
   "cell_type": "code",
   "execution_count": null,
   "metadata": {},
   "outputs": [
    {
     "name": "stdout",
     "output_type": "stream",
     "text": [
      "fizzbuzz\n"
     ]
    }
   ],
   "source": [
    "def fizz_buzz(num):\n",
    "    if num % 3 == 0:\n",
    "        if num % 15 == 0:\n",
    "            return \"fizzbuzz\"\n",
    "        else:\n",
    "            return \"fizz\"\n",
    "    elif num % 5 == 0:\n",
    "        return \"buzz\"\n",
    "    return num\n",
    "print(fizz_buzz(15))"
   ]
  },
  {
   "cell_type": "markdown",
   "metadata": {},
   "source": [
    "#### Rock, Paper, Scissors"
   ]
  },
  {
   "cell_type": "code",
   "execution_count": null,
   "metadata": {},
   "outputs": [
    {
     "name": "stdout",
     "output_type": "stream",
     "text": [
      "rock\n"
     ]
    }
   ],
   "source": [
    "def rock_paper_scissors(signal):\n",
    "    if signal == \"rock\":\n",
    "        return \"paper\"\n",
    "    elif signal == \"paper\":\n",
    "        return \"scissors\"\n",
    "    elif signal == \"scissors\":\n",
    "        return \"rock\"\n",
    "print(rock_paper_scissors(\"scissors\"))"
   ]
  }
 ],
 "metadata": {
  "kernelspec": {
   "display_name": "Python 3",
   "language": "python",
   "name": "python3"
  },
  "language_info": {
   "codemirror_mode": {
    "name": "ipython",
    "version": 3
   },
   "file_extension": ".py",
   "mimetype": "text/x-python",
   "name": "python",
   "nbconvert_exporter": "python",
   "pygments_lexer": "ipython3",
   "version": "3.11.5"
  },
  "orig_nbformat": 4
 },
 "nbformat": 4,
 "nbformat_minor": 2
}
